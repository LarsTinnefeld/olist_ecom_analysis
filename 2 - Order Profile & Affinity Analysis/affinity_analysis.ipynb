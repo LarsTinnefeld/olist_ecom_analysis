{
 "metadata": {
  "language_info": {
   "codemirror_mode": {
    "name": "ipython",
    "version": 3
   },
   "file_extension": ".py",
   "mimetype": "text/x-python",
   "name": "python",
   "nbconvert_exporter": "python",
   "pygments_lexer": "ipython3",
   "version": "3.8.3-final"
  },
  "orig_nbformat": 2,
  "kernelspec": {
   "name": "python3",
   "display_name": "Python 3.8.3 64-bit (conda)",
   "metadata": {
    "interpreter": {
     "hash": "183bbf6827d058c2a2fb0f4acdc0420849dda2b4380af0e437e38c64d798d8b7"
    }
   }
  }
 },
 "nbformat": 4,
 "nbformat_minor": 2,
 "cells": [
  {
   "source": [
    "# Market Basket Analysis\n",
    "GitHub location: https://github.com/LarsTinnefeld/olist_ecom_analysis.git\n",
    "\n",
    "**A project of the Olist ecommerce business analysis.**\n",
    "\n",
    "<img src=\"https://i2.wp.com/dataneophyte.com/wp-content/uploads/2019/12/Logo-01.png\" width=\"400\" height=\"300\">\n",
    "\n",
    "\n",
    "## Questions to answer\n",
    "...\n",
    "\n",
    "## Table of Contents\n",
    "\n",
    "I. [Data Import and Wrangling](#data)<br>\n",
    "II. [Exploratory Date Analysis](#eda)<br>\n",
    "III. [Market Basket Analysis](#affinity)<br>"
   ],
   "cell_type": "markdown",
   "metadata": {}
  },
  {
   "source": [
    "---\n",
    "## <a class=\"anchor\" id=\"data\">I. Data Import and Wrangling</a>\n",
    "\n",
    "### 1. Libraries"
   ],
   "cell_type": "markdown",
   "metadata": {}
  },
  {
   "cell_type": "code",
   "execution_count": 1,
   "metadata": {},
   "outputs": [],
   "source": [
    "import pandas as pd\n",
    "import numpy as np\n",
    "\n",
    "from apyori import apriori\n",
    "\n",
    "import matplotlib.pyplot as plt\n",
    "import matplotlib.ticker as ticker\n",
    "import seaborn as sns\n",
    "from datetime import datetime as dt\n",
    "%matplotlib inline\n",
    "sns.set_style(\"whitegrid\")"
   ]
  },
  {
   "source": [
    "### 2. Importing order data\n",
    "Part of the data was inherited from the initial Olist data analysis.\n",
    "\n",
    "General data structure:"
   ],
   "cell_type": "markdown",
   "metadata": {}
  },
  {
   "source": [
    "<img src=\"https://i.imgur.com/HRhd2Y0.png\" width=\"700\" height=\"450\">"
   ],
   "cell_type": "markdown",
   "metadata": {}
  },
  {
   "source": [
    "We will import the already cleanded dataset from the shared dataset of the Olist business analysis."
   ],
   "cell_type": "markdown",
   "metadata": {}
  },
  {
   "source": [
    "<img src=\"https://github.com/LarsTinnefeld/olist_ecom_analysis/blob/main/Olist-Analysis_1_New_tables.PNG?raw=true\" width=\"700\" height=\"400\">"
   ],
   "cell_type": "markdown",
   "metadata": {}
  },
  {
   "source": [
    "Importing order data"
   ],
   "cell_type": "markdown",
   "metadata": {}
  },
  {
   "cell_type": "code",
   "execution_count": 2,
   "metadata": {},
   "outputs": [],
   "source": [
    "df_orders = pd.read_csv('../0 - data/df_orders_consolidated.csv')"
   ]
  },
  {
   "cell_type": "code",
   "execution_count": 3,
   "metadata": {},
   "outputs": [
    {
     "output_type": "execute_result",
     "data": {
      "text/plain": [
       "   Unnamed: 0  Unnamed: 0.1                          order_id  \\\n",
       "0           0             0  2e7a8482f6fb09756ca50c10d7bfc047   \n",
       "1           1             1  35d3a51724a47ef1d0b89911e39cc4ff   \n",
       "2           2             2  c4f710df20f7d1500da1aef81a993f65   \n",
       "3           3             3  81e5043198a44ddeb226002ff55d8ad4   \n",
       "4           4             4  03b218d39c422c250f389120c531b61f   \n",
       "\n",
       "                        customer_id order_status order_purchase_timestamp  \\\n",
       "0  08c5351a6aca1c1589a38f244edeee9d      shipped               2016-09-04   \n",
       "1  27ab53f26192510ff85872aeb3759dcc    delivered               2016-10-04   \n",
       "2  4b671f05b6eb9dc1d2c1bae9c8c78536    delivered               2016-10-10   \n",
       "3  ddd15ef77c83eea8c534d2896173a927    delivered               2017-01-09   \n",
       "4  db857a86c685a6a3a02a705961ec1ff1    delivered               2017-01-14   \n",
       "\n",
       "  order_approved_at order_delivered_carrier_date  \\\n",
       "0        2016-10-07                   2016-10-18   \n",
       "1        2016-10-05                   2016-10-14   \n",
       "2        2016-10-10                   2016-10-18   \n",
       "3        2017-01-09                   2017-01-09   \n",
       "4        2017-01-14                   2017-01-16   \n",
       "\n",
       "  order_delivered_customer_date order_estimated_delivery_date  ...  \\\n",
       "0                    2016-11-09                    2016-10-20  ...   \n",
       "1                    2016-10-26                    2016-12-20  ...   \n",
       "2                    2016-10-26                    2016-12-14  ...   \n",
       "3                    2017-02-24                    2017-02-24  ...   \n",
       "4                    2017-01-18                    2017-03-01  ...   \n",
       "\n",
       "  product_name_lenght product_description_lenght  product_photos_qty  \\\n",
       "0                59.0                      426.0                 2.0   \n",
       "1                59.0                      426.0                 2.0   \n",
       "2                59.0                      426.0                 2.0   \n",
       "3                59.0                      426.0                 2.0   \n",
       "4                59.0                      426.0                 2.0   \n",
       "\n",
       "   product_weight_g  product_length_cm  product_height_cm product_width_cm  \\\n",
       "0            1400.0               32.0                6.0             28.0   \n",
       "1            1400.0               32.0                6.0             28.0   \n",
       "2            1400.0               32.0                6.0             28.0   \n",
       "3            1400.0               32.0                6.0             28.0   \n",
       "4            1400.0               32.0                6.0             28.0   \n",
       "\n",
       "   order_line_cube_in_ltr price_round                customer_unique_id  \n",
       "0                   5.376        40.0  b7d76e111c89f7ebf14761390f0f7d17  \n",
       "1                   5.376        40.0  f922896769e9517ea3c630f3c8de86d0  \n",
       "2                   5.376        40.0  0ecf7f65b5ff3b9e61b637e59f495e0a  \n",
       "3                  10.752        40.0  853ba75a0b423722ccf270eea3b4cfe4  \n",
       "4                   5.376        40.0  c83d504c46170342ddbc93c762e0e4ec  \n",
       "\n",
       "[5 rows x 33 columns]"
      ],
      "text/html": "<div>\n<style scoped>\n    .dataframe tbody tr th:only-of-type {\n        vertical-align: middle;\n    }\n\n    .dataframe tbody tr th {\n        vertical-align: top;\n    }\n\n    .dataframe thead th {\n        text-align: right;\n    }\n</style>\n<table border=\"1\" class=\"dataframe\">\n  <thead>\n    <tr style=\"text-align: right;\">\n      <th></th>\n      <th>Unnamed: 0</th>\n      <th>Unnamed: 0.1</th>\n      <th>order_id</th>\n      <th>customer_id</th>\n      <th>order_status</th>\n      <th>order_purchase_timestamp</th>\n      <th>order_approved_at</th>\n      <th>order_delivered_carrier_date</th>\n      <th>order_delivered_customer_date</th>\n      <th>order_estimated_delivery_date</th>\n      <th>...</th>\n      <th>product_name_lenght</th>\n      <th>product_description_lenght</th>\n      <th>product_photos_qty</th>\n      <th>product_weight_g</th>\n      <th>product_length_cm</th>\n      <th>product_height_cm</th>\n      <th>product_width_cm</th>\n      <th>order_line_cube_in_ltr</th>\n      <th>price_round</th>\n      <th>customer_unique_id</th>\n    </tr>\n  </thead>\n  <tbody>\n    <tr>\n      <th>0</th>\n      <td>0</td>\n      <td>0</td>\n      <td>2e7a8482f6fb09756ca50c10d7bfc047</td>\n      <td>08c5351a6aca1c1589a38f244edeee9d</td>\n      <td>shipped</td>\n      <td>2016-09-04</td>\n      <td>2016-10-07</td>\n      <td>2016-10-18</td>\n      <td>2016-11-09</td>\n      <td>2016-10-20</td>\n      <td>...</td>\n      <td>59.0</td>\n      <td>426.0</td>\n      <td>2.0</td>\n      <td>1400.0</td>\n      <td>32.0</td>\n      <td>6.0</td>\n      <td>28.0</td>\n      <td>5.376</td>\n      <td>40.0</td>\n      <td>b7d76e111c89f7ebf14761390f0f7d17</td>\n    </tr>\n    <tr>\n      <th>1</th>\n      <td>1</td>\n      <td>1</td>\n      <td>35d3a51724a47ef1d0b89911e39cc4ff</td>\n      <td>27ab53f26192510ff85872aeb3759dcc</td>\n      <td>delivered</td>\n      <td>2016-10-04</td>\n      <td>2016-10-05</td>\n      <td>2016-10-14</td>\n      <td>2016-10-26</td>\n      <td>2016-12-20</td>\n      <td>...</td>\n      <td>59.0</td>\n      <td>426.0</td>\n      <td>2.0</td>\n      <td>1400.0</td>\n      <td>32.0</td>\n      <td>6.0</td>\n      <td>28.0</td>\n      <td>5.376</td>\n      <td>40.0</td>\n      <td>f922896769e9517ea3c630f3c8de86d0</td>\n    </tr>\n    <tr>\n      <th>2</th>\n      <td>2</td>\n      <td>2</td>\n      <td>c4f710df20f7d1500da1aef81a993f65</td>\n      <td>4b671f05b6eb9dc1d2c1bae9c8c78536</td>\n      <td>delivered</td>\n      <td>2016-10-10</td>\n      <td>2016-10-10</td>\n      <td>2016-10-18</td>\n      <td>2016-10-26</td>\n      <td>2016-12-14</td>\n      <td>...</td>\n      <td>59.0</td>\n      <td>426.0</td>\n      <td>2.0</td>\n      <td>1400.0</td>\n      <td>32.0</td>\n      <td>6.0</td>\n      <td>28.0</td>\n      <td>5.376</td>\n      <td>40.0</td>\n      <td>0ecf7f65b5ff3b9e61b637e59f495e0a</td>\n    </tr>\n    <tr>\n      <th>3</th>\n      <td>3</td>\n      <td>3</td>\n      <td>81e5043198a44ddeb226002ff55d8ad4</td>\n      <td>ddd15ef77c83eea8c534d2896173a927</td>\n      <td>delivered</td>\n      <td>2017-01-09</td>\n      <td>2017-01-09</td>\n      <td>2017-01-09</td>\n      <td>2017-02-24</td>\n      <td>2017-02-24</td>\n      <td>...</td>\n      <td>59.0</td>\n      <td>426.0</td>\n      <td>2.0</td>\n      <td>1400.0</td>\n      <td>32.0</td>\n      <td>6.0</td>\n      <td>28.0</td>\n      <td>10.752</td>\n      <td>40.0</td>\n      <td>853ba75a0b423722ccf270eea3b4cfe4</td>\n    </tr>\n    <tr>\n      <th>4</th>\n      <td>4</td>\n      <td>4</td>\n      <td>03b218d39c422c250f389120c531b61f</td>\n      <td>db857a86c685a6a3a02a705961ec1ff1</td>\n      <td>delivered</td>\n      <td>2017-01-14</td>\n      <td>2017-01-14</td>\n      <td>2017-01-16</td>\n      <td>2017-01-18</td>\n      <td>2017-03-01</td>\n      <td>...</td>\n      <td>59.0</td>\n      <td>426.0</td>\n      <td>2.0</td>\n      <td>1400.0</td>\n      <td>32.0</td>\n      <td>6.0</td>\n      <td>28.0</td>\n      <td>5.376</td>\n      <td>40.0</td>\n      <td>c83d504c46170342ddbc93c762e0e4ec</td>\n    </tr>\n  </tbody>\n</table>\n<p>5 rows × 33 columns</p>\n</div>"
     },
     "metadata": {},
     "execution_count": 3
    }
   ],
   "source": [
    "df_orders.head()"
   ]
  },
  {
   "source": [
    "This is a cleaned data table from previous analysis. All missing values are added, all duplicated entries are removed and order lines were consolidated. We only need to format the date fields into datetime format."
   ],
   "cell_type": "markdown",
   "metadata": {}
  },
  {
   "cell_type": "code",
   "execution_count": 10,
   "metadata": {},
   "outputs": [],
   "source": [
    "def convert_to_dt(dat, cols):\n",
    "    '''\n",
    "    Function takes in a dataframe name and date\n",
    "    columns for conversion into datetime format\n",
    "    Input:\n",
    "    - Dataframe\n",
    "    Output:\n",
    "    - None (Converts the format of the column into datetime)\n",
    "    '''\n",
    "    for col in cols:\n",
    "        dat[col] = pd.to_datetime(dat[col]).dt.date"
   ]
  },
  {
   "cell_type": "code",
   "execution_count": 11,
   "metadata": {},
   "outputs": [],
   "source": [
    "convert_to_dt(df_orders, [\n",
    "    'order_purchase_timestamp',\n",
    "    'order_approved_at',\n",
    "    'order_delivered_carrier_date',\n",
    "    'order_delivered_customer_date',\n",
    "    'order_estimated_delivery_date'\n",
    "    ])"
   ]
  },
  {
   "cell_type": "code",
   "execution_count": 12,
   "metadata": {},
   "outputs": [],
   "source": [
    "df_orders.drop(['Unnamed: 0', 'Unnamed: 0.1'], axis=1, inplace=True)"
   ]
  },
  {
   "cell_type": "code",
   "execution_count": 14,
   "metadata": {},
   "outputs": [
    {
     "output_type": "stream",
     "name": "stdout",
     "text": [
      "<class 'pandas.core.frame.DataFrame'>\nRangeIndex: 102425 entries, 0 to 102424\nData columns (total 31 columns):\n #   Column                         Non-Null Count   Dtype  \n---  ------                         --------------   -----  \n 0   order_id                       102425 non-null  object \n 1   customer_id                    102425 non-null  object \n 2   order_status                   102425 non-null  object \n 3   order_purchase_timestamp       102425 non-null  object \n 4   order_approved_at              102425 non-null  object \n 5   order_delivered_carrier_date   102425 non-null  object \n 6   order_delivered_customer_date  102425 non-null  object \n 7   order_estimated_delivery_date  102425 non-null  object \n 8   order_time                     102425 non-null  object \n 9   delivery_time                  102425 non-null  object \n 10  date_ordinal                   102425 non-null  int64  \n 11  shipping_time_delta            102425 non-null  int64  \n 12  shipping_duration              102425 non-null  int64  \n 13  estimated_duration             102425 non-null  int64  \n 14  product_id                     102425 non-null  object \n 15  qty                            102425 non-null  int64  \n 16  seller_id                      102425 non-null  object \n 17  shipping_limit_date            102425 non-null  object \n 18  price                          102425 non-null  float64\n 19  freight_value                  102425 non-null  float64\n 20  product_category_name          100965 non-null  object \n 21  product_name_lenght            100965 non-null  float64\n 22  product_description_lenght     100965 non-null  float64\n 23  product_photos_qty             100965 non-null  float64\n 24  product_weight_g               102425 non-null  float64\n 25  product_length_cm              102425 non-null  float64\n 26  product_height_cm              102425 non-null  float64\n 27  product_width_cm               102425 non-null  float64\n 28  order_line_cube_in_ltr         102425 non-null  float64\n 29  price_round                    102425 non-null  float64\n 30  customer_unique_id             102425 non-null  object \ndtypes: float64(11), int64(5), object(15)\nmemory usage: 24.2+ MB\n"
     ]
    }
   ],
   "source": [
    "df_orders.info()"
   ]
  },
  {
   "cell_type": "code",
   "execution_count": null,
   "metadata": {},
   "outputs": [],
   "source": []
  },
  {
   "cell_type": "code",
   "execution_count": null,
   "metadata": {},
   "outputs": [],
   "source": []
  },
  {
   "cell_type": "code",
   "execution_count": null,
   "metadata": {},
   "outputs": [],
   "source": []
  },
  {
   "cell_type": "code",
   "execution_count": null,
   "metadata": {},
   "outputs": [],
   "source": []
  },
  {
   "cell_type": "code",
   "execution_count": null,
   "metadata": {},
   "outputs": [],
   "source": []
  },
  {
   "source": [
    "---\n",
    "## <a class=\"anchor\" id=\"affinity\">III. Market Basket Analysis</a>\n",
    "\n",
    "Questions to answer:\n",
    "\n",
    "** Can we predict buying behaviour between articles in one order (association)? **\n",
    "\n",
    "I will try to answer these questions with an Affinity Analysis (Market Basket Analysis) by using the Apyori library. Basic formulas:"
   ],
   "cell_type": "markdown",
   "metadata": {}
  },
  {
   "source": [
    "### 1. Basics"
   ],
   "cell_type": "markdown",
   "metadata": {}
  },
  {
   "source": [
    "How likely SKU B is purchased if SKU A is purchased: $$ Confidence(A\\Rightarrow B) = \\frac{frq(A, B)}{frq(A)}) $$"
   ],
   "cell_type": "markdown",
   "metadata": {}
  },
  {
   "source": [
    "How popular is SKU A: $$ Support(A\\Rightarrow B) = \\frac{frq(A, B)}{N}) $$\n",
    "\n",
    "In other words: Number of orderlines of the specific products over the total number of order lines of the dataset"
   ],
   "cell_type": "markdown",
   "metadata": {}
  },
  {
   "source": [
    "SKU B's likelyhood to be bought when SKU A is bought:  $$ Lift(A\\Rightarrow B) = \\frac{Support}{Supp(A) * Supp(B)}) $$"
   ],
   "cell_type": "markdown",
   "metadata": {}
  },
  {
   "source": [
    "The orders are so small (93% SLO) that I suspect the assiciation will be very small. As a reminder, the order profile:"
   ],
   "cell_type": "markdown",
   "metadata": {}
  },
  {
   "cell_type": "code",
   "execution_count": null,
   "metadata": {},
   "outputs": [],
   "source": [
    "# sns.countplot(df_upo_lpo['lines']);"
   ]
  },
  {
   "source": [
    "Only for orders with 2 or more lines association can be extracted.\n",
    "\n",
    "I will extract these MLOs and perform with these the Affinity Analysis."
   ],
   "cell_type": "markdown",
   "metadata": {}
  },
  {
   "source": [
    "### 2. Preparing data\n",
    "\n",
    "Only multi-line orders are interesting, because here we can observe which categories are ordered together."
   ],
   "cell_type": "markdown",
   "metadata": {}
  },
  {
   "cell_type": "code",
   "execution_count": null,
   "metadata": {},
   "outputs": [],
   "source": [
    "# List with all multi-line orders\n",
    "#lst_mlo = df_upo_lpo[df_upo_lpo['lines']>1]['order_id'].tolist()"
   ]
  },
  {
   "cell_type": "code",
   "execution_count": null,
   "metadata": {},
   "outputs": [],
   "source": [
    "# Extract dataframe with only multi-line orders\n",
    "#df_mlo = df_orders_consolidated[df_orders_consolidated['order_id'].isin(lst_mlo)]"
   ]
  },
  {
   "cell_type": "code",
   "execution_count": 3,
   "metadata": {},
   "outputs": [],
   "source": [
    "# Generate sparse matrix by using my matric function\n",
    "#mat_mlo_cat = create_category_order_matrix(df_mlo, 'order_id', 'product_category_name_english', 'qty')"
   ]
  },
  {
   "cell_type": "code",
   "execution_count": 4,
   "metadata": {},
   "outputs": [],
   "source": [
    "#mat_mlo_cat = mat_mlo_cat['qty']"
   ]
  },
  {
   "source": [
    "### Support Score\n",
    "The support score for the prodcuts in this table is simply the mean"
   ],
   "cell_type": "markdown",
   "metadata": {}
  },
  {
   "cell_type": "code",
   "execution_count": null,
   "metadata": {},
   "outputs": [],
   "source": [
    "#mat_mlo_cat.mean().sort_values(ascending=False).head(20)"
   ]
  },
  {
   "source": [
    "### 3. Performing Analysis"
   ],
   "cell_type": "markdown",
   "metadata": {}
  },
  {
   "cell_type": "code",
   "execution_count": 5,
   "metadata": {},
   "outputs": [],
   "source": [
    "# Aryori needs a list with all mlos, where each lmo contains a list with all categories\n",
    "#records = []\n",
    "#for i in range(3229):\n",
    "#    records.append([mat_mlo_cat.values[i, j] for j in range(0, 66)])"
   ]
  },
  {
   "cell_type": "code",
   "execution_count": 6,
   "metadata": {},
   "outputs": [],
   "source": [
    "# Applying list to apyori algorithm\n",
    "#affinity_model = apriori(mat_mlo_cat, min_support=0.01, min_confidence=0.2 , use_colnames = True)\n",
    "#affinity_results = list(affinity_model)"
   ]
  },
  {
   "source": [
    "# In Process ..."
   ],
   "cell_type": "markdown",
   "metadata": {}
  },
  {
   "cell_type": "code",
   "execution_count": null,
   "metadata": {},
   "outputs": [],
   "source": []
  },
  {
   "cell_type": "code",
   "execution_count": null,
   "metadata": {},
   "outputs": [],
   "source": []
  },
  {
   "cell_type": "code",
   "execution_count": null,
   "metadata": {},
   "outputs": [],
   "source": []
  },
  {
   "cell_type": "code",
   "execution_count": null,
   "metadata": {},
   "outputs": [],
   "source": []
  }
 ]
}