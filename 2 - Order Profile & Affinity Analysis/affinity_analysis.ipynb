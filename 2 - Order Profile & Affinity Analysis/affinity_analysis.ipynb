{
 "metadata": {
  "language_info": {
   "codemirror_mode": {
    "name": "ipython",
    "version": 3
   },
   "file_extension": ".py",
   "mimetype": "text/x-python",
   "name": "python",
   "nbconvert_exporter": "python",
   "pygments_lexer": "ipython3",
   "version": "3.8.3-final"
  },
  "orig_nbformat": 2,
  "kernelspec": {
   "name": "python3",
   "display_name": "Python 3.8.3 64-bit (conda)",
   "metadata": {
    "interpreter": {
     "hash": "183bbf6827d058c2a2fb0f4acdc0420849dda2b4380af0e437e38c64d798d8b7"
    }
   }
  }
 },
 "nbformat": 4,
 "nbformat_minor": 2,
 "cells": [
  {
   "source": [
    "# Market Basket Analysis\n",
    "GitHub location: https://github.com/LarsTinnefeld/olist_ecom_analysis.git\n",
    "\n",
    "**A project of the Olist ecommerce business analysis.**\n",
    "\n",
    "<img src=\"https://i2.wp.com/dataneophyte.com/wp-content/uploads/2019/12/Logo-01.png\" width=\"400\" height=\"300\">\n",
    "\n",
    "\n",
    "## Questions to answer\n",
    "...\n",
    "\n",
    "## Table of Contents\n",
    "\n",
    "I. [Data Import and Wrangling](#data)<br>\n",
    "II. [Exploratory Date Analysis](#eda)<br>\n",
    "III. [Market Basket Analysis](#affinity)<br>"
   ],
   "cell_type": "markdown",
   "metadata": {}
  },
  {
   "source": [
    "---\n",
    "## <a class=\"anchor\" id=\"data\">I. Data Import and Wrangling</a>\n",
    "\n",
    "### 1. Libraries"
   ],
   "cell_type": "markdown",
   "metadata": {}
  },
  {
   "cell_type": "code",
   "execution_count": 2,
   "metadata": {},
   "outputs": [],
   "source": [
    "import pandas as pd\n",
    "import numpy as np\n",
    "from apyori import apriori\n",
    "import matplotlib.pyplot as plt\n",
    "import matplotlib.ticker as ticker\n",
    "import seaborn as sns\n",
    "from datetime import datetime as dt\n",
    "%matplotlib inline\n",
    "sns.set_style(\"whitegrid\")"
   ]
  },
  {
   "source": [
    "### 2. Importing order data\n",
    "Part of the data was inherited from the initial Olist data analysis.\n",
    "\n",
    "General data structure:"
   ],
   "cell_type": "markdown",
   "metadata": {}
  },
  {
   "source": [
    "<img src=\"https://i.imgur.com/HRhd2Y0.png\" width=\"700\" height=\"450\">"
   ],
   "cell_type": "markdown",
   "metadata": {}
  },
  {
   "source": [
    "We will import the already cleanded dataset from the shared dataset of the Olist business analysis."
   ],
   "cell_type": "markdown",
   "metadata": {}
  },
  {
   "source": [
    "<img src=\"https://github.com/LarsTinnefeld/olist_ecom_analysis/blob/main/Olist-Analysis_1_New_tables.PNG?raw=true\" width=\"700\" height=\"400\">"
   ],
   "cell_type": "markdown",
   "metadata": {}
  },
  {
   "cell_type": "code",
   "execution_count": null,
   "metadata": {},
   "outputs": [],
   "source": []
  },
  {
   "source": [
    "---\n",
    "## <a class=\"anchor\" id=\"affinity\">III. Market Basket Analysis</a>\n",
    "\n",
    "Questions to answer:\n",
    "\n",
    "** Can we predict buying behaviour between articles in one order (association)? **\n",
    "\n",
    "I will try to answer these questions with an Affinity Analysis (Market Basket Analysis) by using the Apyori library. Basic formulas:"
   ],
   "cell_type": "markdown",
   "metadata": {}
  },
  {
   "source": [
    "### 1. Basics"
   ],
   "cell_type": "markdown",
   "metadata": {}
  },
  {
   "source": [
    "How likely SKU B is purchased if SKU A is purchased: $$ Confidence(A\\Rightarrow B) = \\frac{frq(A, B)}{frq(A)}) $$"
   ],
   "cell_type": "markdown",
   "metadata": {}
  },
  {
   "source": [
    "How popular is SKU A: $$ Support(A\\Rightarrow B) = \\frac{frq(A, B)}{N}) $$\n",
    "\n",
    "In other words: Number of orderlines of the specific products over the total number of order lines of the dataset"
   ],
   "cell_type": "markdown",
   "metadata": {}
  },
  {
   "source": [
    "SKU B's likelyhood to be bought when SKU A is bought:  $$ Lift(A\\Rightarrow B) = \\frac{Support}{Supp(A) * Supp(B)}) $$"
   ],
   "cell_type": "markdown",
   "metadata": {}
  },
  {
   "source": [
    "The orders are so small (93% SLO) that I suspect the assiciation will be very small. As a reminder, the order profile:"
   ],
   "cell_type": "markdown",
   "metadata": {}
  },
  {
   "cell_type": "code",
   "execution_count": null,
   "metadata": {},
   "outputs": [],
   "source": [
    "# sns.countplot(df_upo_lpo['lines']);"
   ]
  },
  {
   "source": [
    "Only for orders with 2 or more lines association can be extracted.\n",
    "\n",
    "I will extract these MLOs and perform with these the Affinity Analysis."
   ],
   "cell_type": "markdown",
   "metadata": {}
  },
  {
   "source": [
    "### 2. Preparing data\n",
    "\n",
    "Only multi-line orders are interesting, because here we can observe which categories are ordered together."
   ],
   "cell_type": "markdown",
   "metadata": {}
  },
  {
   "cell_type": "code",
   "execution_count": null,
   "metadata": {},
   "outputs": [],
   "source": [
    "# List with all multi-line orders\n",
    "#lst_mlo = df_upo_lpo[df_upo_lpo['lines']>1]['order_id'].tolist()"
   ]
  },
  {
   "cell_type": "code",
   "execution_count": null,
   "metadata": {},
   "outputs": [],
   "source": [
    "# Extract dataframe with only multi-line orders\n",
    "#df_mlo = df_orders_consolidated[df_orders_consolidated['order_id'].isin(lst_mlo)]"
   ]
  },
  {
   "cell_type": "code",
   "execution_count": 3,
   "metadata": {},
   "outputs": [],
   "source": [
    "# Generate sparse matrix by using my matric function\n",
    "#mat_mlo_cat = create_category_order_matrix(df_mlo, 'order_id', 'product_category_name_english', 'qty')"
   ]
  },
  {
   "cell_type": "code",
   "execution_count": 4,
   "metadata": {},
   "outputs": [],
   "source": [
    "#mat_mlo_cat = mat_mlo_cat['qty']"
   ]
  },
  {
   "source": [
    "### Support Score\n",
    "The support score for the prodcuts in this table is simply the mean"
   ],
   "cell_type": "markdown",
   "metadata": {}
  },
  {
   "cell_type": "code",
   "execution_count": null,
   "metadata": {},
   "outputs": [],
   "source": [
    "#mat_mlo_cat.mean().sort_values(ascending=False).head(20)"
   ]
  },
  {
   "source": [
    "### 3. Performing Analysis"
   ],
   "cell_type": "markdown",
   "metadata": {}
  },
  {
   "cell_type": "code",
   "execution_count": 5,
   "metadata": {},
   "outputs": [],
   "source": [
    "# Aryori needs a list with all mlos, where each lmo contains a list with all categories\n",
    "#records = []\n",
    "#for i in range(3229):\n",
    "#    records.append([mat_mlo_cat.values[i, j] for j in range(0, 66)])"
   ]
  },
  {
   "cell_type": "code",
   "execution_count": 6,
   "metadata": {},
   "outputs": [],
   "source": [
    "# Applying list to apyori algorithm\n",
    "#affinity_model = apriori(mat_mlo_cat, min_support=0.01, min_confidence=0.2 , use_colnames = True)\n",
    "#affinity_results = list(affinity_model)"
   ]
  },
  {
   "source": [
    "# In Process ..."
   ],
   "cell_type": "markdown",
   "metadata": {}
  },
  {
   "cell_type": "code",
   "execution_count": null,
   "metadata": {},
   "outputs": [],
   "source": []
  },
  {
   "cell_type": "code",
   "execution_count": null,
   "metadata": {},
   "outputs": [],
   "source": []
  },
  {
   "cell_type": "code",
   "execution_count": null,
   "metadata": {},
   "outputs": [],
   "source": []
  },
  {
   "cell_type": "code",
   "execution_count": null,
   "metadata": {},
   "outputs": [],
   "source": []
  }
 ]
}