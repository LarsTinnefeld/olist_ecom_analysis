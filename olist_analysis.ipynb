{
 "cells": [
  {
   "cell_type": "markdown",
   "metadata": {},
   "source": [
    "# Data Analysis\n",
    "GitHub location: https://github.com/LarsTinnefeld/olist_ecom_analysis.git\n",
    "\n",
    "**A project of the Olist ecommerce business analysis.**\n",
    "\n",
    "<img src=\"https://i2.wp.com/dataneophyte.com/wp-content/uploads/2019/12/Logo-01.png\" width=\"400\" height=\"300\">\n",
    "\n",
    "Questions to investigate:\n",
    "1. Are there correlations and patterns in the data which are important for the concept?\n",
    "2. What is the general business trend?\n",
    "3. How dynamic is the operation and are there extreme events which impact logistic process?\n",
    "4. What does the prediction say about the business in two years?\n",
    "\n",
    "Structure of this notebook:\n",
    "- Data import and preparation\n",
    "- Exploratory data analysis\n",
    "- Extracting trends and predictions from the order data\n",
    "- Linear regression\n",
    "\n",
    "## Table of Contents\n",
    "\n",
    "I. [Data Import and Wrangling](#data)<br>\n",
    "II. [Exploratory Date Analysis](#eda)<br>\n",
    "III. [Extracting trends and predictions from the order data](#trend)<br>\n",
    "IV. [Linear regression](#lineareg)<br>\n"
   ]
  },
  {
   "cell_type": "markdown",
   "metadata": {},
   "source": [
    "---\n",
    "## <a class=\"anchor\" id=\"data\">I. Data Import and Wrangling</a>\n",
    "\n",
    "### 1. Libraries"
   ]
  },
  {
   "cell_type": "code",
   "execution_count": 1,
   "metadata": {},
   "outputs": [],
   "source": [
    "import pandas as pd\n",
    "import numpy as np\n",
    "import matplotlib.pyplot as plt\n",
    "import seaborn as sns\n",
    "import plotly\n",
    "import plotly.graph_objs as go\n",
    "from datetime import datetime as dt\n",
    "%matplotlib inline\n",
    "from sklearn.linear_model import LinearRegression\n",
    "from sklearn.model_selection import train_test_split\n",
    "from sklearn.metrics import r2_score, mean_squared_error, classification_report\n",
    "import sidetable\n",
    "sns.set_style(\"whitegrid\")"
   ]
  },
  {
   "cell_type": "markdown",
   "metadata": {},
   "source": [
    "---\n",
    "### 2. Importing data\n",
    "High level view of the content. Not all available data tables will be needed for the project, only:\n",
    "- Order\n",
    "- Order Items\n",
    "- Prodcuts"
   ]
  },
  {
   "cell_type": "code",
   "execution_count": 2,
   "metadata": {},
   "outputs": [],
   "source": [
    "df_orders = pd.read_csv(\"olist_orders_dataset.csv\")\n",
    "df_order_items = pd.read_csv(\"olist_order_items_dataset.csv\")\n",
    "df_products = pd.read_csv(\"olist_products_dataset.csv\")"
   ]
  },
  {
   "cell_type": "markdown",
   "metadata": {},
   "source": [
    "---\n",
    "### 3. Order data preparation\n",
    "The order data table contains order IDs with time stamps and customer ID."
   ]
  },
  {
   "cell_type": "code",
   "execution_count": 3,
   "metadata": {},
   "outputs": [
    {
     "output_type": "execute_result",
     "data": {
      "text/plain": [
       "                               count unique                               top  \\\n",
       "order_id                       99441  99441  42b71d23c4c47ac0364517ab0ada92c3   \n",
       "customer_id                    99441  99441  9f700cd78cf84ddaab40881aa1352029   \n",
       "order_status                   99441      8                         delivered   \n",
       "order_purchase_timestamp       99441  98875               2017-11-20 10:59:08   \n",
       "order_approved_at              99281  90733               2018-02-27 04:31:10   \n",
       "order_delivered_carrier_date   97658  81018               2018-05-09 15:48:00   \n",
       "order_delivered_customer_date  96476  95664               2017-12-02 00:26:45   \n",
       "order_estimated_delivery_date  99441    459               2017-12-20 00:00:00   \n",
       "\n",
       "                                freq  \n",
       "order_id                           1  \n",
       "customer_id                        1  \n",
       "order_status                   96478  \n",
       "order_purchase_timestamp           3  \n",
       "order_approved_at                  9  \n",
       "order_delivered_carrier_date      47  \n",
       "order_delivered_customer_date      3  \n",
       "order_estimated_delivery_date    522  "
      ],
      "text/html": "<div>\n<style scoped>\n    .dataframe tbody tr th:only-of-type {\n        vertical-align: middle;\n    }\n\n    .dataframe tbody tr th {\n        vertical-align: top;\n    }\n\n    .dataframe thead th {\n        text-align: right;\n    }\n</style>\n<table border=\"1\" class=\"dataframe\">\n  <thead>\n    <tr style=\"text-align: right;\">\n      <th></th>\n      <th>count</th>\n      <th>unique</th>\n      <th>top</th>\n      <th>freq</th>\n    </tr>\n  </thead>\n  <tbody>\n    <tr>\n      <th>order_id</th>\n      <td>99441</td>\n      <td>99441</td>\n      <td>42b71d23c4c47ac0364517ab0ada92c3</td>\n      <td>1</td>\n    </tr>\n    <tr>\n      <th>customer_id</th>\n      <td>99441</td>\n      <td>99441</td>\n      <td>9f700cd78cf84ddaab40881aa1352029</td>\n      <td>1</td>\n    </tr>\n    <tr>\n      <th>order_status</th>\n      <td>99441</td>\n      <td>8</td>\n      <td>delivered</td>\n      <td>96478</td>\n    </tr>\n    <tr>\n      <th>order_purchase_timestamp</th>\n      <td>99441</td>\n      <td>98875</td>\n      <td>2017-11-20 10:59:08</td>\n      <td>3</td>\n    </tr>\n    <tr>\n      <th>order_approved_at</th>\n      <td>99281</td>\n      <td>90733</td>\n      <td>2018-02-27 04:31:10</td>\n      <td>9</td>\n    </tr>\n    <tr>\n      <th>order_delivered_carrier_date</th>\n      <td>97658</td>\n      <td>81018</td>\n      <td>2018-05-09 15:48:00</td>\n      <td>47</td>\n    </tr>\n    <tr>\n      <th>order_delivered_customer_date</th>\n      <td>96476</td>\n      <td>95664</td>\n      <td>2017-12-02 00:26:45</td>\n      <td>3</td>\n    </tr>\n    <tr>\n      <th>order_estimated_delivery_date</th>\n      <td>99441</td>\n      <td>459</td>\n      <td>2017-12-20 00:00:00</td>\n      <td>522</td>\n    </tr>\n  </tbody>\n</table>\n</div>"
     },
     "metadata": {},
     "execution_count": 3
    }
   ],
   "source": [
    "df_orders.describe().transpose()"
   ]
  },
  {
   "cell_type": "code",
   "execution_count": 4,
   "metadata": {},
   "outputs": [
    {
     "output_type": "stream",
     "name": "stdout",
     "text": [
      "<class 'pandas.core.frame.DataFrame'>\nRangeIndex: 99441 entries, 0 to 99440\nData columns (total 8 columns):\n #   Column                         Non-Null Count  Dtype \n---  ------                         --------------  ----- \n 0   order_id                       99441 non-null  object\n 1   customer_id                    99441 non-null  object\n 2   order_status                   99441 non-null  object\n 3   order_purchase_timestamp       99441 non-null  object\n 4   order_approved_at              99281 non-null  object\n 5   order_delivered_carrier_date   97658 non-null  object\n 6   order_delivered_customer_date  96476 non-null  object\n 7   order_estimated_delivery_date  99441 non-null  object\ndtypes: object(8)\nmemory usage: 6.1+ MB\n"
     ]
    }
   ],
   "source": [
    "df_orders.info()"
   ]
  },
  {
   "cell_type": "code",
   "execution_count": 5,
   "metadata": {},
   "outputs": [
    {
     "output_type": "execute_result",
     "data": {
      "text/plain": [
       "                           order_id                       customer_id  \\\n",
       "0  e481f51cbdc54678b7cc49136f2d6af7  9ef432eb6251297304e76186b10a928d   \n",
       "1  53cdb2fc8bc7dce0b6741e2150273451  b0830fb4747a6c6d20dea0b8c802d7ef   \n",
       "2  47770eb9100c2d0c44946d9cf07ec65d  41ce2a54c0b03bf3443c3d931a367089   \n",
       "\n",
       "  order_status order_purchase_timestamp    order_approved_at  \\\n",
       "0    delivered      2017-10-02 10:56:33  2017-10-02 11:07:15   \n",
       "1    delivered      2018-07-24 20:41:37  2018-07-26 03:24:27   \n",
       "2    delivered      2018-08-08 08:38:49  2018-08-08 08:55:23   \n",
       "\n",
       "  order_delivered_carrier_date order_delivered_customer_date  \\\n",
       "0          2017-10-04 19:55:00           2017-10-10 21:25:13   \n",
       "1          2018-07-26 14:31:00           2018-08-07 15:27:45   \n",
       "2          2018-08-08 13:50:00           2018-08-17 18:06:29   \n",
       "\n",
       "  order_estimated_delivery_date  \n",
       "0           2017-10-18 00:00:00  \n",
       "1           2018-08-13 00:00:00  \n",
       "2           2018-09-04 00:00:00  "
      ],
      "text/html": "<div>\n<style scoped>\n    .dataframe tbody tr th:only-of-type {\n        vertical-align: middle;\n    }\n\n    .dataframe tbody tr th {\n        vertical-align: top;\n    }\n\n    .dataframe thead th {\n        text-align: right;\n    }\n</style>\n<table border=\"1\" class=\"dataframe\">\n  <thead>\n    <tr style=\"text-align: right;\">\n      <th></th>\n      <th>order_id</th>\n      <th>customer_id</th>\n      <th>order_status</th>\n      <th>order_purchase_timestamp</th>\n      <th>order_approved_at</th>\n      <th>order_delivered_carrier_date</th>\n      <th>order_delivered_customer_date</th>\n      <th>order_estimated_delivery_date</th>\n    </tr>\n  </thead>\n  <tbody>\n    <tr>\n      <th>0</th>\n      <td>e481f51cbdc54678b7cc49136f2d6af7</td>\n      <td>9ef432eb6251297304e76186b10a928d</td>\n      <td>delivered</td>\n      <td>2017-10-02 10:56:33</td>\n      <td>2017-10-02 11:07:15</td>\n      <td>2017-10-04 19:55:00</td>\n      <td>2017-10-10 21:25:13</td>\n      <td>2017-10-18 00:00:00</td>\n    </tr>\n    <tr>\n      <th>1</th>\n      <td>53cdb2fc8bc7dce0b6741e2150273451</td>\n      <td>b0830fb4747a6c6d20dea0b8c802d7ef</td>\n      <td>delivered</td>\n      <td>2018-07-24 20:41:37</td>\n      <td>2018-07-26 03:24:27</td>\n      <td>2018-07-26 14:31:00</td>\n      <td>2018-08-07 15:27:45</td>\n      <td>2018-08-13 00:00:00</td>\n    </tr>\n    <tr>\n      <th>2</th>\n      <td>47770eb9100c2d0c44946d9cf07ec65d</td>\n      <td>41ce2a54c0b03bf3443c3d931a367089</td>\n      <td>delivered</td>\n      <td>2018-08-08 08:38:49</td>\n      <td>2018-08-08 08:55:23</td>\n      <td>2018-08-08 13:50:00</td>\n      <td>2018-08-17 18:06:29</td>\n      <td>2018-09-04 00:00:00</td>\n    </tr>\n  </tbody>\n</table>\n</div>"
     },
     "metadata": {},
     "execution_count": 5
    }
   ],
   "source": [
    "df_orders.head(3)"
   ]
  },
  {
   "cell_type": "markdown",
   "metadata": {},
   "source": [
    "2,965 missing delivery to customer dates (3%)\n",
    "\n",
    "Date will need to be formated as datetime as well. The dates will be trimmed to date only (without time), so that they can be grouped by days later.\n",
    "\n",
    "Important for our project are order purchase date, delivery date and estimated delivery date. I convert these two columns into datetime format and fill the mising values in column 'order_delivered_customer_date' with 'ffill'. Two items to take care of: 1) List must be in sorted order. 2) 'ffill' would not work for the first cells if they belong to the empty cells."
   ]
  },
  {
   "cell_type": "code",
   "execution_count": 6,
   "metadata": {},
   "outputs": [],
   "source": [
    "def convert_to_dt(dat, cols):\n",
    "    '''Function takes in a dataframe name and date columns for conversion into datetime format'''\n",
    "    for col in cols:\n",
    "        dat[col] = pd.to_datetime(dat[col], format='%Y-%m-%d').dt.date"
   ]
  },
  {
   "source": [
    "It might be usefull to conserve the order- and delivery timestamp (h:m:s) as well for later analysis."
   ],
   "cell_type": "markdown",
   "metadata": {}
  },
  {
   "cell_type": "code",
   "execution_count": 7,
   "metadata": {},
   "outputs": [],
   "source": [
    "# Creating timestamp columns"
   ]
  },
  {
   "cell_type": "code",
   "execution_count": 8,
   "metadata": {},
   "outputs": [],
   "source": [
    "df_orders['order_time'] = pd.to_datetime(df_orders['order_purchase_timestamp']).dt.time\n",
    "df_orders['delivery_time'] = pd.to_datetime(df_orders['order_delivered_carrier_date']).dt.time"
   ]
  },
  {
   "cell_type": "code",
   "execution_count": 9,
   "metadata": {},
   "outputs": [],
   "source": [
    "#converting date\n",
    "convert_to_dt(df_orders, ['order_purchase_timestamp', 'order_approved_at', 'order_delivered_carrier_date', 'order_delivered_customer_date', 'order_estimated_delivery_date'])\n",
    "df_orders.sort_values(by = 'order_purchase_timestamp', inplace = True)"
   ]
  },
  {
   "cell_type": "code",
   "execution_count": 10,
   "metadata": {},
   "outputs": [
    {
     "output_type": "execute_result",
     "data": {
      "text/plain": [
       "                               order_id                       customer_id  \\\n",
       "4541   2e7a8482f6fb09756ca50c10d7bfc047  08c5351a6aca1c1589a38f244edeee9d   \n",
       "4396   e5fa5a7210941f7d56d0208e4e071d35  683c54fc24d40ee9f8a6fc179fd9856c   \n",
       "10071  809a282bbd5dbcabb6f2f724fca862ec  622e13439d6b5a0b486c435618b2679e   \n",
       "30710  bfbd0f9bdef84302105ad712db648a6c  86dc2ffce2dfff336de2f386a786e574   \n",
       "83078  71303d7e93b399f5bcd537d124c0bcfa  b106b360fe2ef8849fbbd056f777b4d5   \n",
       "\n",
       "      order_status order_purchase_timestamp order_approved_at  \\\n",
       "4541       shipped               2016-09-04        2016-10-07   \n",
       "4396      canceled               2016-09-05        2016-10-07   \n",
       "10071     canceled               2016-09-13        2016-10-07   \n",
       "30710    delivered               2016-09-15        2016-09-15   \n",
       "83078     canceled               2016-10-02        2016-10-06   \n",
       "\n",
       "      order_delivered_carrier_date order_delivered_customer_date  \\\n",
       "4541                    2016-10-18                           NaT   \n",
       "4396                           NaT                           NaT   \n",
       "10071                          NaT                           NaT   \n",
       "30710                   2016-11-07                    2016-11-09   \n",
       "83078                          NaT                           NaT   \n",
       "\n",
       "      order_estimated_delivery_date order_time delivery_time  \n",
       "4541                     2016-10-20   21:15:19      13:14:51  \n",
       "4396                     2016-10-28   00:15:34           NaT  \n",
       "10071                    2016-09-30   15:24:19           NaT  \n",
       "30710                    2016-10-04   12:16:38      17:11:53  \n",
       "83078                    2016-10-25   22:07:52           NaT  "
      ],
      "text/html": "<div>\n<style scoped>\n    .dataframe tbody tr th:only-of-type {\n        vertical-align: middle;\n    }\n\n    .dataframe tbody tr th {\n        vertical-align: top;\n    }\n\n    .dataframe thead th {\n        text-align: right;\n    }\n</style>\n<table border=\"1\" class=\"dataframe\">\n  <thead>\n    <tr style=\"text-align: right;\">\n      <th></th>\n      <th>order_id</th>\n      <th>customer_id</th>\n      <th>order_status</th>\n      <th>order_purchase_timestamp</th>\n      <th>order_approved_at</th>\n      <th>order_delivered_carrier_date</th>\n      <th>order_delivered_customer_date</th>\n      <th>order_estimated_delivery_date</th>\n      <th>order_time</th>\n      <th>delivery_time</th>\n    </tr>\n  </thead>\n  <tbody>\n    <tr>\n      <th>4541</th>\n      <td>2e7a8482f6fb09756ca50c10d7bfc047</td>\n      <td>08c5351a6aca1c1589a38f244edeee9d</td>\n      <td>shipped</td>\n      <td>2016-09-04</td>\n      <td>2016-10-07</td>\n      <td>2016-10-18</td>\n      <td>NaT</td>\n      <td>2016-10-20</td>\n      <td>21:15:19</td>\n      <td>13:14:51</td>\n    </tr>\n    <tr>\n      <th>4396</th>\n      <td>e5fa5a7210941f7d56d0208e4e071d35</td>\n      <td>683c54fc24d40ee9f8a6fc179fd9856c</td>\n      <td>canceled</td>\n      <td>2016-09-05</td>\n      <td>2016-10-07</td>\n      <td>NaT</td>\n      <td>NaT</td>\n      <td>2016-10-28</td>\n      <td>00:15:34</td>\n      <td>NaT</td>\n    </tr>\n    <tr>\n      <th>10071</th>\n      <td>809a282bbd5dbcabb6f2f724fca862ec</td>\n      <td>622e13439d6b5a0b486c435618b2679e</td>\n      <td>canceled</td>\n      <td>2016-09-13</td>\n      <td>2016-10-07</td>\n      <td>NaT</td>\n      <td>NaT</td>\n      <td>2016-09-30</td>\n      <td>15:24:19</td>\n      <td>NaT</td>\n    </tr>\n    <tr>\n      <th>30710</th>\n      <td>bfbd0f9bdef84302105ad712db648a6c</td>\n      <td>86dc2ffce2dfff336de2f386a786e574</td>\n      <td>delivered</td>\n      <td>2016-09-15</td>\n      <td>2016-09-15</td>\n      <td>2016-11-07</td>\n      <td>2016-11-09</td>\n      <td>2016-10-04</td>\n      <td>12:16:38</td>\n      <td>17:11:53</td>\n    </tr>\n    <tr>\n      <th>83078</th>\n      <td>71303d7e93b399f5bcd537d124c0bcfa</td>\n      <td>b106b360fe2ef8849fbbd056f777b4d5</td>\n      <td>canceled</td>\n      <td>2016-10-02</td>\n      <td>2016-10-06</td>\n      <td>NaT</td>\n      <td>NaT</td>\n      <td>2016-10-25</td>\n      <td>22:07:52</td>\n      <td>NaT</td>\n    </tr>\n  </tbody>\n</table>\n</div>"
     },
     "metadata": {},
     "execution_count": 10
    }
   ],
   "source": [
    "df_orders.head()"
   ]
  },
  {
   "cell_type": "code",
   "execution_count": 11,
   "metadata": {},
   "outputs": [],
   "source": [
    "# First three 'order_delivered_customer_date' values are empty. These need to be filled with 'bfill':\n",
    "df_orders['order_delivered_customer_date'].iloc[:4].bfill(inplace=True)"
   ]
  },
  {
   "cell_type": "code",
   "execution_count": 12,
   "metadata": {},
   "outputs": [
    {
     "output_type": "execute_result",
     "data": {
      "text/plain": [
       "                               order_id                       customer_id  \\\n",
       "4541   2e7a8482f6fb09756ca50c10d7bfc047  08c5351a6aca1c1589a38f244edeee9d   \n",
       "4396   e5fa5a7210941f7d56d0208e4e071d35  683c54fc24d40ee9f8a6fc179fd9856c   \n",
       "10071  809a282bbd5dbcabb6f2f724fca862ec  622e13439d6b5a0b486c435618b2679e   \n",
       "30710  bfbd0f9bdef84302105ad712db648a6c  86dc2ffce2dfff336de2f386a786e574   \n",
       "83078  71303d7e93b399f5bcd537d124c0bcfa  b106b360fe2ef8849fbbd056f777b4d5   \n",
       "\n",
       "      order_status order_purchase_timestamp order_approved_at  \\\n",
       "4541       shipped               2016-09-04        2016-10-07   \n",
       "4396      canceled               2016-09-05        2016-10-07   \n",
       "10071     canceled               2016-09-13        2016-10-07   \n",
       "30710    delivered               2016-09-15        2016-09-15   \n",
       "83078     canceled               2016-10-02        2016-10-06   \n",
       "\n",
       "      order_delivered_carrier_date order_delivered_customer_date  \\\n",
       "4541                    2016-10-18                    2016-11-09   \n",
       "4396                           NaT                    2016-11-09   \n",
       "10071                          NaT                    2016-11-09   \n",
       "30710                   2016-11-07                    2016-11-09   \n",
       "83078                          NaT                           NaT   \n",
       "\n",
       "      order_estimated_delivery_date order_time delivery_time  \n",
       "4541                     2016-10-20   21:15:19      13:14:51  \n",
       "4396                     2016-10-28   00:15:34           NaT  \n",
       "10071                    2016-09-30   15:24:19           NaT  \n",
       "30710                    2016-10-04   12:16:38      17:11:53  \n",
       "83078                    2016-10-25   22:07:52           NaT  "
      ],
      "text/html": "<div>\n<style scoped>\n    .dataframe tbody tr th:only-of-type {\n        vertical-align: middle;\n    }\n\n    .dataframe tbody tr th {\n        vertical-align: top;\n    }\n\n    .dataframe thead th {\n        text-align: right;\n    }\n</style>\n<table border=\"1\" class=\"dataframe\">\n  <thead>\n    <tr style=\"text-align: right;\">\n      <th></th>\n      <th>order_id</th>\n      <th>customer_id</th>\n      <th>order_status</th>\n      <th>order_purchase_timestamp</th>\n      <th>order_approved_at</th>\n      <th>order_delivered_carrier_date</th>\n      <th>order_delivered_customer_date</th>\n      <th>order_estimated_delivery_date</th>\n      <th>order_time</th>\n      <th>delivery_time</th>\n    </tr>\n  </thead>\n  <tbody>\n    <tr>\n      <th>4541</th>\n      <td>2e7a8482f6fb09756ca50c10d7bfc047</td>\n      <td>08c5351a6aca1c1589a38f244edeee9d</td>\n      <td>shipped</td>\n      <td>2016-09-04</td>\n      <td>2016-10-07</td>\n      <td>2016-10-18</td>\n      <td>2016-11-09</td>\n      <td>2016-10-20</td>\n      <td>21:15:19</td>\n      <td>13:14:51</td>\n    </tr>\n    <tr>\n      <th>4396</th>\n      <td>e5fa5a7210941f7d56d0208e4e071d35</td>\n      <td>683c54fc24d40ee9f8a6fc179fd9856c</td>\n      <td>canceled</td>\n      <td>2016-09-05</td>\n      <td>2016-10-07</td>\n      <td>NaT</td>\n      <td>2016-11-09</td>\n      <td>2016-10-28</td>\n      <td>00:15:34</td>\n      <td>NaT</td>\n    </tr>\n    <tr>\n      <th>10071</th>\n      <td>809a282bbd5dbcabb6f2f724fca862ec</td>\n      <td>622e13439d6b5a0b486c435618b2679e</td>\n      <td>canceled</td>\n      <td>2016-09-13</td>\n      <td>2016-10-07</td>\n      <td>NaT</td>\n      <td>2016-11-09</td>\n      <td>2016-09-30</td>\n      <td>15:24:19</td>\n      <td>NaT</td>\n    </tr>\n    <tr>\n      <th>30710</th>\n      <td>bfbd0f9bdef84302105ad712db648a6c</td>\n      <td>86dc2ffce2dfff336de2f386a786e574</td>\n      <td>delivered</td>\n      <td>2016-09-15</td>\n      <td>2016-09-15</td>\n      <td>2016-11-07</td>\n      <td>2016-11-09</td>\n      <td>2016-10-04</td>\n      <td>12:16:38</td>\n      <td>17:11:53</td>\n    </tr>\n    <tr>\n      <th>83078</th>\n      <td>71303d7e93b399f5bcd537d124c0bcfa</td>\n      <td>b106b360fe2ef8849fbbd056f777b4d5</td>\n      <td>canceled</td>\n      <td>2016-10-02</td>\n      <td>2016-10-06</td>\n      <td>NaT</td>\n      <td>NaT</td>\n      <td>2016-10-25</td>\n      <td>22:07:52</td>\n      <td>NaT</td>\n    </tr>\n  </tbody>\n</table>\n</div>"
     },
     "metadata": {},
     "execution_count": 12
    }
   ],
   "source": [
    "df_orders.head()"
   ]
  },
  {
   "cell_type": "code",
   "execution_count": 16,
   "metadata": {},
   "outputs": [
    {
     "output_type": "stream",
     "name": "stdout",
     "text": [
      "Missing values:  0\n"
     ]
    }
   ],
   "source": [
    "# Substitute missing date values through forward fill:\n",
    "for col in [\n",
    "    'order_delivered_customer_date',\n",
    "    'order_approved_at',\n",
    "    'order_delivered_carrier_date',\n",
    "    'order_delivered_customer_date',\n",
    "    'delivery_time'\n",
    "    ]:\n",
    "    df_orders[col].fillna(method = 'ffill', inplace = True)\n",
    "\n",
    "# check:\n",
    "print('Missing values: ', df_orders['order_delivered_customer_date']\\\n",
    "    .isnull()\\\n",
    "    .sum())"
   ]
  },
  {
   "cell_type": "code",
   "execution_count": 18,
   "metadata": {},
   "outputs": [
    {
     "output_type": "stream",
     "name": "stdout",
     "text": [
      "<class 'pandas.core.frame.DataFrame'>\nInt64Index: 99441 entries, 4541 to 60938\nData columns (total 10 columns):\n #   Column                         Non-Null Count  Dtype \n---  ------                         --------------  ----- \n 0   order_id                       99441 non-null  object\n 1   customer_id                    99441 non-null  object\n 2   order_status                   99441 non-null  object\n 3   order_purchase_timestamp       99441 non-null  object\n 4   order_approved_at              99441 non-null  object\n 5   order_delivered_carrier_date   99441 non-null  object\n 6   order_delivered_customer_date  99441 non-null  object\n 7   order_estimated_delivery_date  99441 non-null  object\n 8   order_time                     99441 non-null  object\n 9   delivery_time                  99441 non-null  object\ndtypes: object(10)\nmemory usage: 10.8+ MB\n"
     ]
    }
   ],
   "source": [
    "df_orders.info()"
   ]
  },
  {
   "cell_type": "code",
   "execution_count": 20,
   "metadata": {},
   "outputs": [
    {
     "output_type": "execute_result",
     "data": {
      "text/plain": [
       "                               order_id                       customer_id  \\\n",
       "4541   2e7a8482f6fb09756ca50c10d7bfc047  08c5351a6aca1c1589a38f244edeee9d   \n",
       "4396   e5fa5a7210941f7d56d0208e4e071d35  683c54fc24d40ee9f8a6fc179fd9856c   \n",
       "10071  809a282bbd5dbcabb6f2f724fca862ec  622e13439d6b5a0b486c435618b2679e   \n",
       "30710  bfbd0f9bdef84302105ad712db648a6c  86dc2ffce2dfff336de2f386a786e574   \n",
       "83078  71303d7e93b399f5bcd537d124c0bcfa  b106b360fe2ef8849fbbd056f777b4d5   \n",
       "\n",
       "      order_status order_purchase_timestamp order_approved_at  \\\n",
       "4541       shipped               2016-09-04        2016-10-07   \n",
       "4396      canceled               2016-09-05        2016-10-07   \n",
       "10071     canceled               2016-09-13        2016-10-07   \n",
       "30710    delivered               2016-09-15        2016-09-15   \n",
       "83078     canceled               2016-10-02        2016-10-06   \n",
       "\n",
       "      order_delivered_carrier_date order_delivered_customer_date  \\\n",
       "4541                    2016-10-18                    2016-11-09   \n",
       "4396                    2016-10-18                    2016-11-09   \n",
       "10071                   2016-10-18                    2016-11-09   \n",
       "30710                   2016-11-07                    2016-11-09   \n",
       "83078                   2016-11-07                    2016-11-09   \n",
       "\n",
       "      order_estimated_delivery_date order_time delivery_time  date_ordinal  \n",
       "4541                     2016-10-20   21:15:19      13:14:51        736211  \n",
       "4396                     2016-10-28   00:15:34      13:14:51        736212  \n",
       "10071                    2016-09-30   15:24:19      13:14:51        736220  \n",
       "30710                    2016-10-04   12:16:38      17:11:53        736222  \n",
       "83078                    2016-10-25   22:07:52      17:11:53        736239  "
      ],
      "text/html": "<div>\n<style scoped>\n    .dataframe tbody tr th:only-of-type {\n        vertical-align: middle;\n    }\n\n    .dataframe tbody tr th {\n        vertical-align: top;\n    }\n\n    .dataframe thead th {\n        text-align: right;\n    }\n</style>\n<table border=\"1\" class=\"dataframe\">\n  <thead>\n    <tr style=\"text-align: right;\">\n      <th></th>\n      <th>order_id</th>\n      <th>customer_id</th>\n      <th>order_status</th>\n      <th>order_purchase_timestamp</th>\n      <th>order_approved_at</th>\n      <th>order_delivered_carrier_date</th>\n      <th>order_delivered_customer_date</th>\n      <th>order_estimated_delivery_date</th>\n      <th>order_time</th>\n      <th>delivery_time</th>\n      <th>date_ordinal</th>\n    </tr>\n  </thead>\n  <tbody>\n    <tr>\n      <th>4541</th>\n      <td>2e7a8482f6fb09756ca50c10d7bfc047</td>\n      <td>08c5351a6aca1c1589a38f244edeee9d</td>\n      <td>shipped</td>\n      <td>2016-09-04</td>\n      <td>2016-10-07</td>\n      <td>2016-10-18</td>\n      <td>2016-11-09</td>\n      <td>2016-10-20</td>\n      <td>21:15:19</td>\n      <td>13:14:51</td>\n      <td>736211</td>\n    </tr>\n    <tr>\n      <th>4396</th>\n      <td>e5fa5a7210941f7d56d0208e4e071d35</td>\n      <td>683c54fc24d40ee9f8a6fc179fd9856c</td>\n      <td>canceled</td>\n      <td>2016-09-05</td>\n      <td>2016-10-07</td>\n      <td>2016-10-18</td>\n      <td>2016-11-09</td>\n      <td>2016-10-28</td>\n      <td>00:15:34</td>\n      <td>13:14:51</td>\n      <td>736212</td>\n    </tr>\n    <tr>\n      <th>10071</th>\n      <td>809a282bbd5dbcabb6f2f724fca862ec</td>\n      <td>622e13439d6b5a0b486c435618b2679e</td>\n      <td>canceled</td>\n      <td>2016-09-13</td>\n      <td>2016-10-07</td>\n      <td>2016-10-18</td>\n      <td>2016-11-09</td>\n      <td>2016-09-30</td>\n      <td>15:24:19</td>\n      <td>13:14:51</td>\n      <td>736220</td>\n    </tr>\n    <tr>\n      <th>30710</th>\n      <td>bfbd0f9bdef84302105ad712db648a6c</td>\n      <td>86dc2ffce2dfff336de2f386a786e574</td>\n      <td>delivered</td>\n      <td>2016-09-15</td>\n      <td>2016-09-15</td>\n      <td>2016-11-07</td>\n      <td>2016-11-09</td>\n      <td>2016-10-04</td>\n      <td>12:16:38</td>\n      <td>17:11:53</td>\n      <td>736222</td>\n    </tr>\n    <tr>\n      <th>83078</th>\n      <td>71303d7e93b399f5bcd537d124c0bcfa</td>\n      <td>b106b360fe2ef8849fbbd056f777b4d5</td>\n      <td>canceled</td>\n      <td>2016-10-02</td>\n      <td>2016-10-06</td>\n      <td>2016-11-07</td>\n      <td>2016-11-09</td>\n      <td>2016-10-25</td>\n      <td>22:07:52</td>\n      <td>17:11:53</td>\n      <td>736239</td>\n    </tr>\n  </tbody>\n</table>\n</div>"
     },
     "metadata": {},
     "execution_count": 20
    }
   ],
   "source": [
    "df_orders.head()"
   ]
  },
  {
   "cell_type": "markdown",
   "metadata": {},
   "source": [
    "Looks good. I will also add a column where the order date is expressed as ordinal format. This numerical format will simplify some of the processes later."
   ]
  },
  {
   "cell_type": "code",
   "execution_count": 19,
   "metadata": {},
   "outputs": [],
   "source": [
    "# Adding ordinal date column:\n",
    "df_orders['date_ordinal'] = df_orders['order_purchase_timestamp']\\\n",
    "                            .apply(lambda date: date.toordinal())"
   ]
  },
  {
   "cell_type": "markdown",
   "metadata": {},
   "source": [
    "When it comes to delivery time, these values can be of interest:\n",
    "- Difference between estimated delivery date and true delivery date (shipping_time_delta)\n",
    "- Difference between order date and delivery date (shipping_duration)\n",
    "- Difference between order date and estimated delivery date (estimated_duration)\n",
    "\n",
    "These columns will be created:"
   ]
  },
  {
   "cell_type": "code",
   "execution_count": 21,
   "metadata": {},
   "outputs": [],
   "source": [
    "df_orders['shipping_time_delta'] = df_orders['order_estimated_delivery_date'] - df_orders['order_delivered_customer_date']\n",
    "df_orders['shipping_duration'] = df_orders['order_delivered_customer_date'] - df_orders['order_purchase_timestamp']\n",
    "df_orders['estimated_duration'] = df_orders['order_estimated_delivery_date'] - df_orders['order_purchase_timestamp']"
   ]
  },
  {
   "cell_type": "code",
   "execution_count": 25,
   "metadata": {},
   "outputs": [
    {
     "output_type": "execute_result",
     "data": {
      "text/plain": [
       "                               order_id                       customer_id  \\\n",
       "4541   2e7a8482f6fb09756ca50c10d7bfc047  08c5351a6aca1c1589a38f244edeee9d   \n",
       "4396   e5fa5a7210941f7d56d0208e4e071d35  683c54fc24d40ee9f8a6fc179fd9856c   \n",
       "10071  809a282bbd5dbcabb6f2f724fca862ec  622e13439d6b5a0b486c435618b2679e   \n",
       "\n",
       "      order_status order_purchase_timestamp order_approved_at  \\\n",
       "4541       shipped               2016-09-04        2016-10-07   \n",
       "4396      canceled               2016-09-05        2016-10-07   \n",
       "10071     canceled               2016-09-13        2016-10-07   \n",
       "\n",
       "      order_delivered_carrier_date order_delivered_customer_date  \\\n",
       "4541                    2016-10-18                    2016-11-09   \n",
       "4396                    2016-10-18                    2016-11-09   \n",
       "10071                   2016-10-18                    2016-11-09   \n",
       "\n",
       "      order_estimated_delivery_date order_time delivery_time  date_ordinal  \\\n",
       "4541                     2016-10-20   21:15:19      13:14:51        736211   \n",
       "4396                     2016-10-28   00:15:34      13:14:51        736212   \n",
       "10071                    2016-09-30   15:24:19      13:14:51        736220   \n",
       "\n",
       "      shipping_time_delta shipping_duration estimated_duration  \n",
       "4541             -20 days           66 days            46 days  \n",
       "4396             -12 days           65 days            53 days  \n",
       "10071            -40 days           57 days            17 days  "
      ],
      "text/html": "<div>\n<style scoped>\n    .dataframe tbody tr th:only-of-type {\n        vertical-align: middle;\n    }\n\n    .dataframe tbody tr th {\n        vertical-align: top;\n    }\n\n    .dataframe thead th {\n        text-align: right;\n    }\n</style>\n<table border=\"1\" class=\"dataframe\">\n  <thead>\n    <tr style=\"text-align: right;\">\n      <th></th>\n      <th>order_id</th>\n      <th>customer_id</th>\n      <th>order_status</th>\n      <th>order_purchase_timestamp</th>\n      <th>order_approved_at</th>\n      <th>order_delivered_carrier_date</th>\n      <th>order_delivered_customer_date</th>\n      <th>order_estimated_delivery_date</th>\n      <th>order_time</th>\n      <th>delivery_time</th>\n      <th>date_ordinal</th>\n      <th>shipping_time_delta</th>\n      <th>shipping_duration</th>\n      <th>estimated_duration</th>\n    </tr>\n  </thead>\n  <tbody>\n    <tr>\n      <th>4541</th>\n      <td>2e7a8482f6fb09756ca50c10d7bfc047</td>\n      <td>08c5351a6aca1c1589a38f244edeee9d</td>\n      <td>shipped</td>\n      <td>2016-09-04</td>\n      <td>2016-10-07</td>\n      <td>2016-10-18</td>\n      <td>2016-11-09</td>\n      <td>2016-10-20</td>\n      <td>21:15:19</td>\n      <td>13:14:51</td>\n      <td>736211</td>\n      <td>-20 days</td>\n      <td>66 days</td>\n      <td>46 days</td>\n    </tr>\n    <tr>\n      <th>4396</th>\n      <td>e5fa5a7210941f7d56d0208e4e071d35</td>\n      <td>683c54fc24d40ee9f8a6fc179fd9856c</td>\n      <td>canceled</td>\n      <td>2016-09-05</td>\n      <td>2016-10-07</td>\n      <td>2016-10-18</td>\n      <td>2016-11-09</td>\n      <td>2016-10-28</td>\n      <td>00:15:34</td>\n      <td>13:14:51</td>\n      <td>736212</td>\n      <td>-12 days</td>\n      <td>65 days</td>\n      <td>53 days</td>\n    </tr>\n    <tr>\n      <th>10071</th>\n      <td>809a282bbd5dbcabb6f2f724fca862ec</td>\n      <td>622e13439d6b5a0b486c435618b2679e</td>\n      <td>canceled</td>\n      <td>2016-09-13</td>\n      <td>2016-10-07</td>\n      <td>2016-10-18</td>\n      <td>2016-11-09</td>\n      <td>2016-09-30</td>\n      <td>15:24:19</td>\n      <td>13:14:51</td>\n      <td>736220</td>\n      <td>-40 days</td>\n      <td>57 days</td>\n      <td>17 days</td>\n    </tr>\n  </tbody>\n</table>\n</div>"
     },
     "metadata": {},
     "execution_count": 25
    }
   ],
   "source": [
    "df_orders.head(3)"
   ]
  },
  {
   "cell_type": "markdown",
   "metadata": {},
   "source": [
    "Checking if there are repeating orders:"
   ]
  },
  {
   "cell_type": "code",
   "execution_count": 26,
   "metadata": {},
   "outputs": [
    {
     "output_type": "stream",
     "name": "stdout",
     "text": [
      "Total of unique orders: 99441 \nTotal of records: 99441\n"
     ]
    }
   ],
   "source": [
    "print('Total of unique orders: {} \\n\\\n",
    "Total of records: {}'\n",
    "    .format(len(df_orders['order_id'].unique()), len(df_orders)))"
   ]
  },
  {
   "cell_type": "markdown",
   "metadata": {},
   "source": [
    "The order data table looks good now."
   ]
  },
  {
   "cell_type": "markdown",
   "metadata": {},
   "source": [
    "----------\n",
    "## Order_item data\n",
    "The table contains the orders in detail with SKUs, seller and prices."
   ]
  },
  {
   "cell_type": "code",
   "execution_count": 27,
   "metadata": {},
   "outputs": [
    {
     "output_type": "execute_result",
     "data": {
      "text/plain": [
       "       order_item_id          price  freight_value\n",
       "count  112650.000000  112650.000000  112650.000000\n",
       "mean        1.197834     120.653739      19.990320\n",
       "std         0.705124     183.633928      15.806405\n",
       "min         1.000000       0.850000       0.000000\n",
       "25%         1.000000      39.900000      13.080000\n",
       "50%         1.000000      74.990000      16.260000\n",
       "75%         1.000000     134.900000      21.150000\n",
       "max        21.000000    6735.000000     409.680000"
      ],
      "text/html": "<div>\n<style scoped>\n    .dataframe tbody tr th:only-of-type {\n        vertical-align: middle;\n    }\n\n    .dataframe tbody tr th {\n        vertical-align: top;\n    }\n\n    .dataframe thead th {\n        text-align: right;\n    }\n</style>\n<table border=\"1\" class=\"dataframe\">\n  <thead>\n    <tr style=\"text-align: right;\">\n      <th></th>\n      <th>order_item_id</th>\n      <th>price</th>\n      <th>freight_value</th>\n    </tr>\n  </thead>\n  <tbody>\n    <tr>\n      <th>count</th>\n      <td>112650.000000</td>\n      <td>112650.000000</td>\n      <td>112650.000000</td>\n    </tr>\n    <tr>\n      <th>mean</th>\n      <td>1.197834</td>\n      <td>120.653739</td>\n      <td>19.990320</td>\n    </tr>\n    <tr>\n      <th>std</th>\n      <td>0.705124</td>\n      <td>183.633928</td>\n      <td>15.806405</td>\n    </tr>\n    <tr>\n      <th>min</th>\n      <td>1.000000</td>\n      <td>0.850000</td>\n      <td>0.000000</td>\n    </tr>\n    <tr>\n      <th>25%</th>\n      <td>1.000000</td>\n      <td>39.900000</td>\n      <td>13.080000</td>\n    </tr>\n    <tr>\n      <th>50%</th>\n      <td>1.000000</td>\n      <td>74.990000</td>\n      <td>16.260000</td>\n    </tr>\n    <tr>\n      <th>75%</th>\n      <td>1.000000</td>\n      <td>134.900000</td>\n      <td>21.150000</td>\n    </tr>\n    <tr>\n      <th>max</th>\n      <td>21.000000</td>\n      <td>6735.000000</td>\n      <td>409.680000</td>\n    </tr>\n  </tbody>\n</table>\n</div>"
     },
     "metadata": {},
     "execution_count": 27
    }
   ],
   "source": [
    "df_order_items.describe()"
   ]
  },
  {
   "cell_type": "code",
   "execution_count": 28,
   "metadata": {},
   "outputs": [
    {
     "output_type": "stream",
     "name": "stdout",
     "text": [
      "<class 'pandas.core.frame.DataFrame'>\nRangeIndex: 112650 entries, 0 to 112649\nData columns (total 7 columns):\n #   Column               Non-Null Count   Dtype  \n---  ------               --------------   -----  \n 0   order_id             112650 non-null  object \n 1   order_item_id        112650 non-null  int64  \n 2   product_id           112650 non-null  object \n 3   seller_id            112650 non-null  object \n 4   shipping_limit_date  112650 non-null  object \n 5   price                112650 non-null  float64\n 6   freight_value        112650 non-null  float64\ndtypes: float64(2), int64(1), object(4)\nmemory usage: 6.0+ MB\n"
     ]
    }
   ],
   "source": [
    "df_order_items.info()"
   ]
  },
  {
   "cell_type": "code",
   "execution_count": 29,
   "metadata": {},
   "outputs": [
    {
     "output_type": "execute_result",
     "data": {
      "text/plain": [
       "                           order_id  order_item_id  \\\n",
       "0  00010242fe8c5a6d1ba2dd792cb16214              1   \n",
       "1  00018f77f2f0320c557190d7a144bdd3              1   \n",
       "2  000229ec398224ef6ca0657da4fc703e              1   \n",
       "\n",
       "                         product_id                         seller_id  \\\n",
       "0  4244733e06e7ecb4970a6e2683c13e61  48436dade18ac8b2bce089ec2a041202   \n",
       "1  e5f2d52b802189ee658865ca93d83a8f  dd7ddc04e1b6c2c614352b383efe2d36   \n",
       "2  c777355d18b72b67abbeef9df44fd0fd  5b51032eddd242adc84c38acab88f23d   \n",
       "\n",
       "   shipping_limit_date  price  freight_value  \n",
       "0  2017-09-19 09:45:35   58.9          13.29  \n",
       "1  2017-05-03 11:05:13  239.9          19.93  \n",
       "2  2018-01-18 14:48:30  199.0          17.87  "
      ],
      "text/html": "<div>\n<style scoped>\n    .dataframe tbody tr th:only-of-type {\n        vertical-align: middle;\n    }\n\n    .dataframe tbody tr th {\n        vertical-align: top;\n    }\n\n    .dataframe thead th {\n        text-align: right;\n    }\n</style>\n<table border=\"1\" class=\"dataframe\">\n  <thead>\n    <tr style=\"text-align: right;\">\n      <th></th>\n      <th>order_id</th>\n      <th>order_item_id</th>\n      <th>product_id</th>\n      <th>seller_id</th>\n      <th>shipping_limit_date</th>\n      <th>price</th>\n      <th>freight_value</th>\n    </tr>\n  </thead>\n  <tbody>\n    <tr>\n      <th>0</th>\n      <td>00010242fe8c5a6d1ba2dd792cb16214</td>\n      <td>1</td>\n      <td>4244733e06e7ecb4970a6e2683c13e61</td>\n      <td>48436dade18ac8b2bce089ec2a041202</td>\n      <td>2017-09-19 09:45:35</td>\n      <td>58.9</td>\n      <td>13.29</td>\n    </tr>\n    <tr>\n      <th>1</th>\n      <td>00018f77f2f0320c557190d7a144bdd3</td>\n      <td>1</td>\n      <td>e5f2d52b802189ee658865ca93d83a8f</td>\n      <td>dd7ddc04e1b6c2c614352b383efe2d36</td>\n      <td>2017-05-03 11:05:13</td>\n      <td>239.9</td>\n      <td>19.93</td>\n    </tr>\n    <tr>\n      <th>2</th>\n      <td>000229ec398224ef6ca0657da4fc703e</td>\n      <td>1</td>\n      <td>c777355d18b72b67abbeef9df44fd0fd</td>\n      <td>5b51032eddd242adc84c38acab88f23d</td>\n      <td>2018-01-18 14:48:30</td>\n      <td>199.0</td>\n      <td>17.87</td>\n    </tr>\n  </tbody>\n</table>\n</div>"
     },
     "metadata": {},
     "execution_count": 29
    }
   ],
   "source": [
    "df_order_items.head(3)"
   ]
  },
  {
   "cell_type": "code",
   "execution_count": 33,
   "metadata": {},
   "outputs": [
    {
     "output_type": "stream",
     "name": "stdout",
     "text": [
      "Total of unique order_ids in order_item table: 98666 \nTotal of unique orders_item_ids in order_item table: 21 \nTotal of unique orders in order table: 99441 \nTotal of records in order_items: 112650\n"
     ]
    }
   ],
   "source": [
    "# Checking how many unique orders are listed\n",
    "print('Total of unique order_ids in order_item table: {} \\n\\\n",
    "Total of unique orders_item_ids in order_item table: {} \\n\\\n",
    "Total of unique orders in order table: {} \\n\\\n",
    "Total of records in order_items: {}'\n",
    "    .format(\n",
    "    len(df_order_items['order_id'].unique()),\n",
    "    len(df_order_items['order_item_id'].unique()),\n",
    "    len(df_orders['order_id'].unique()),\n",
    "    len(df_order_items))\n",
    "    )\n"
   ]
  },
  {
   "cell_type": "markdown",
   "metadata": {},
   "source": [
    "The order table contains 775 order IDs more than in the order_items table (0.8%).\n",
    "\n",
    "The more interesting observation is, that the number of unique order IDs in df_orders matches the number of total records => There is only one order line for each order? Seems odd"
   ]
  },
  {
   "cell_type": "code",
   "execution_count": 31,
   "metadata": {},
   "outputs": [
    {
     "output_type": "stream",
     "name": "stdout",
     "text": [
      "Number of duplcated records: 0 \nNumber of duplcated order lines: 10225\n"
     ]
    }
   ],
   "source": [
    "# Checking duplicate entries and duplicate order lines:\n",
    "print('Number of duplcated records: {} \\n\\\n",
    "Number of duplcated order lines: {}'\n",
    "    .format(df_order_items.duplicated().sum(),\n",
    "    df_order_items[['order_id', 'product_id']].duplicated().sum()))"
   ]
  },
  {
   "cell_type": "markdown",
   "metadata": {},
   "source": [
    "This shows, that the structure of this order item table is not using order quantities but repeating order lines ('order_item_id' is a running order line count). In order to consolidate it in a form that allows to extract units-per-order line profile the table needs to be transformed. A new quantity column ('qty') will be added."
   ]
  },
  {
   "cell_type": "code",
   "execution_count": null,
   "metadata": {},
   "outputs": [],
   "source": [
    "# Grouping by SKU and order ID:\n",
    "df_order_items_consolidated = df_order_items\\\n",
    "    .groupby(by = ['product_id','order_id'])\\\n",
    "    .agg({\n",
    "        'order_item_id': 'count', \n",
    "        'seller_id': 'first',\n",
    "        'shipping_limit_date': 'first',\n",
    "        'price': 'first',\n",
    "        'freight_value': 'first'\n",
    "        })\\\n",
    "    .reset_index()\n"
   ]
  },
  {
   "cell_type": "code",
   "execution_count": null,
   "metadata": {},
   "outputs": [],
   "source": [
    "# Checking is no info was lost\n",
    "print('Orders in new table: {} \\n\\\n",
    "Orders in old table: {} \\n\\\n",
    "SKUs in new table: {} \\n\\\n",
    "SKUs in old table: {} \\n\\\n",
    "Total quantity in new table: {} \\n\\\n",
    "Total quantity in old table: {}'\n",
    "    .format(\n",
    "    len(df_order_items_consolidated['order_id'].unique()),\n",
    "    len(df_order_items['order_id'].unique()),\n",
    "    len(df_order_items_consolidated['product_id'].unique()),\n",
    "    len(df_order_items['product_id'].unique()),\n",
    "    df_order_items_consolidated['order_item_id'].sum(),\n",
    "    len(df_order_items)\n",
    "    ))"
   ]
  },
  {
   "cell_type": "markdown",
   "metadata": {},
   "source": [
    "No data lost. The new quantity column needs to be renamed 'qty'."
   ]
  },
  {
   "cell_type": "code",
   "execution_count": null,
   "metadata": {},
   "outputs": [],
   "source": [
    "# Renaming new quantity column\n",
    "df_order_items_consolidated\\\n",
    "    .rename(columns = {'order_item_id': 'qty'}, inplace = True)"
   ]
  },
  {
   "cell_type": "markdown",
   "metadata": {},
   "source": [
    "---\n",
    "## Creating combined order table\n",
    "To create a order-volume-time series we will merge the order and the order-items data tables.\n",
    "\n",
    "Tables to combine:\n",
    "- df_orders\n",
    "- df_order_items_consolidated\n",
    "\n",
    "Name of the combined table will remain 'df_order_items_consolidated'."
   ]
  },
  {
   "cell_type": "code",
   "execution_count": null,
   "metadata": {},
   "outputs": [],
   "source": [
    "df_order_items_consolidated = df_orders\\\n",
    "    .merge(df_order_items_consolidated, on = 'order_id')"
   ]
  },
  {
   "cell_type": "code",
   "execution_count": null,
   "metadata": {},
   "outputs": [],
   "source": [
    "df_order_items_consolidated.info()"
   ]
  },
  {
   "cell_type": "code",
   "execution_count": null,
   "metadata": {},
   "outputs": [],
   "source": [
    "df_order_items_consolidated.describe()"
   ]
  },
  {
   "cell_type": "code",
   "execution_count": null,
   "metadata": {},
   "outputs": [],
   "source": [
    "df_order_items_consolidated.head(3)"
   ]
  },
  {
   "cell_type": "markdown",
   "metadata": {},
   "source": [
    "The merge process was done in a way that the orders which were only existing in one table were dropped. Confirming:"
   ]
  },
  {
   "cell_type": "code",
   "execution_count": null,
   "metadata": {},
   "outputs": [],
   "source": [
    "print('Total of unique orders in consolidated order table: {} \\n\\\n",
    "Total of unique orders in order table: {}'\n",
    "    .format(\n",
    "    len(df_order_items_consolidated['order_id'].unique()),\n",
    "    len(df_orders['order_id'].unique())\n",
    "    ))"
   ]
  },
  {
   "cell_type": "markdown",
   "metadata": {},
   "source": [
    "The combined order table is ready."
   ]
  },
  {
   "cell_type": "markdown",
   "metadata": {},
   "source": [
    "---\n",
    "## Products table preparation\n",
    "The products lookup table contains details about the ordered products, their description and physical properties. Physical properties are one side of the filter process to review the business case from a technological angle of view."
   ]
  },
  {
   "cell_type": "code",
   "execution_count": null,
   "metadata": {},
   "outputs": [],
   "source": [
    "df_products.describe()"
   ]
  },
  {
   "cell_type": "code",
   "execution_count": null,
   "metadata": {},
   "outputs": [],
   "source": [
    "df_products.info()"
   ]
  },
  {
   "cell_type": "code",
   "execution_count": null,
   "metadata": {},
   "outputs": [],
   "source": [
    "df_products.head(3)"
   ]
  },
  {
   "cell_type": "markdown",
   "metadata": {},
   "source": [
    "Checking if duplicate records exist:"
   ]
  },
  {
   "cell_type": "code",
   "execution_count": null,
   "metadata": {},
   "outputs": [],
   "source": [
    "df_products['product_id'].duplicated().sum()"
   ]
  },
  {
   "cell_type": "markdown",
   "metadata": {},
   "source": [
    "This looks good. Checking if all ordered items are contained in the product table:"
   ]
  },
  {
   "cell_type": "code",
   "execution_count": null,
   "metadata": {},
   "outputs": [],
   "source": [
    "print('SKU count in order table: {} \\n\\\n",
    "SKU count in product table: {}'\n",
    "    .format(\n",
    "    len(df_order_items_consolidated['product_id'].unique()),\n",
    "    len(df_products['product_id'].unique())\n",
    "    ))\n",
    "df_products['product_id'].equals(df_order_items_consolidated['product_id'])"
   ]
  },
  {
   "cell_type": "markdown",
   "metadata": {},
   "source": [
    "The number of unique SKUs in both tables almost matches (2 differnt) which would look OK, but apparently there are SKUs which don't match. The tables will be merged and the counts of the non-null columns will reveal how many SKUs will have no SKU details. We continue to stick with 'df_order_items_consolidated' as our consolidated table."
   ]
  },
  {
   "cell_type": "markdown",
   "metadata": {},
   "source": [
    "---\n",
    "## Merging product table to consolidated order table "
   ]
  },
  {
   "cell_type": "code",
   "execution_count": null,
   "metadata": {},
   "outputs": [],
   "source": [
    "df_order_items_consolidated = df_order_items_consolidated\\\n",
    "    .merge(df_products, on = 'product_id')"
   ]
  },
  {
   "cell_type": "code",
   "execution_count": null,
   "metadata": {},
   "outputs": [],
   "source": [
    "df_order_items_consolidated.info()"
   ]
  },
  {
   "cell_type": "markdown",
   "metadata": {},
   "source": [
    "16 SKUs (0.05%) have not dimension information, which is negligible. We will substitute these missing information with the averages."
   ]
  },
  {
   "cell_type": "code",
   "execution_count": null,
   "metadata": {},
   "outputs": [],
   "source": [
    "# Filling in average values for missing product values\n",
    "def subst_mean(dat, cols):\n",
    "    '''Function takes in name of a data frame and list of columns to substitute, na cells will be filled with mean'''\n",
    "    for col in cols:\n",
    "        dat[col] = dat[col].fillna(dat[col].mean())"
   ]
  },
  {
   "cell_type": "code",
   "execution_count": null,
   "metadata": {},
   "outputs": [],
   "source": [
    "subst_mean(df_order_items_consolidated, [\n",
    "    'product_length_cm',\n",
    "    'product_weight_g',\n",
    "    'product_height_cm',\n",
    "    'product_width_cm'\n",
    "    ])"
   ]
  },
  {
   "cell_type": "code",
   "execution_count": null,
   "metadata": {},
   "outputs": [],
   "source": [
    "df_order_items_consolidated.describe().transpose()"
   ]
  },
  {
   "cell_type": "markdown",
   "metadata": {},
   "source": [
    "Looks good. We will add an additional column 'cube' to have the shipped volume information on hand."
   ]
  },
  {
   "cell_type": "code",
   "execution_count": null,
   "metadata": {},
   "outputs": [],
   "source": [
    "df_order_items_consolidated['order_line_cube_in_ltr']\\\n",
    "    = df_order_items_consolidated['product_length_cm']\\\n",
    "    *df_order_items_consolidated['product_height_cm']\\\n",
    "    *df_order_items_consolidated['product_width_cm']\\\n",
    "    /1000*df_order_items_consolidated['qty']"
   ]
  },
  {
   "cell_type": "code",
   "execution_count": null,
   "metadata": {},
   "outputs": [],
   "source": [
    "df_order_items_consolidated.head(3)"
   ]
  },
  {
   "cell_type": "markdown",
   "metadata": {},
   "source": [
    "This completes the preparation of a consolidated order table."
   ]
  },
  {
   "cell_type": "markdown",
   "metadata": {},
   "source": [
    "---\n",
    "## Creating a daily order summary table"
   ]
  },
  {
   "cell_type": "code",
   "execution_count": null,
   "metadata": {},
   "outputs": [],
   "source": [
    "df_order_items_consolidated.columns"
   ]
  },
  {
   "cell_type": "code",
   "execution_count": null,
   "metadata": {},
   "outputs": [],
   "source": [
    "# Grouping by days: Panadas has a challenge to apply aggregat functions to timedelta fomats ('shipping_duration' and 'shipping_time_delta'). 3 steps: Converting to int64, aggregate, converting back to timedelta format. Step 1 (converting to int64):\n",
    "def datetime_to_int(dat, cols):\n",
    "    '''Function takes in name of a data frame and list of columns to convert cells will be converted from datetime to int64'''\n",
    "    for col in cols:\n",
    "        dat[col] = dat[col].values.astype(np.int64)"
   ]
  },
  {
   "cell_type": "code",
   "execution_count": null,
   "metadata": {},
   "outputs": [],
   "source": [
    "datetime_to_int(df_order_items_consolidated, [\n",
    "    'shipping_duration',\n",
    "    'shipping_time_delta',\n",
    "    'estimated_duration'\n",
    "    ])"
   ]
  },
  {
   "cell_type": "code",
   "execution_count": null,
   "metadata": {},
   "outputs": [],
   "source": [
    "# Step 2: Groupby and apllying aggregat functions for daily summaries:\n",
    "df_orders_daily\\\n",
    "    =df_order_items_consolidated\\\n",
    "    .groupby('order_purchase_timestamp')\\\n",
    "    .agg({\n",
    "        'date_ordinal': 'first',\n",
    "        'qty':'sum',\n",
    "        'order_id':'count',\n",
    "        'order_line_cube_in_ltr': 'sum',\n",
    "        'freight_value': 'sum',\n",
    "        'price':'sum',\n",
    "        'shipping_duration': 'mean',\n",
    "        'shipping_time_delta': 'mean',\n",
    "        'estimated_duration': 'mean'\n",
    "        }).reset_index()"
   ]
  },
  {
   "cell_type": "code",
   "execution_count": null,
   "metadata": {},
   "outputs": [],
   "source": [
    "# Step 3: Converting back to timedelta:\n",
    "def int_to_datetime(dat, cols):\n",
    "    '''Function takes in name of a data frame and list of columns to convert cells will be converted from int to datetime'''\n",
    "    for col in cols:\n",
    "        dat[col] = pd.to_timedelta(dat[col], 'ns').dt.days"
   ]
  },
  {
   "cell_type": "code",
   "execution_count": null,
   "metadata": {},
   "outputs": [],
   "source": [
    "int_to_datetime(df_order_items_consolidated, [\n",
    "    'shipping_duration',\n",
    "    'shipping_time_delta',\n",
    "    'estimated_duration'\n",
    "    ])\n",
    "int_to_datetime(df_orders_daily, [\n",
    "    'shipping_duration',\n",
    "    'shipping_time_delta',\n",
    "    'estimated_duration'\n",
    "])"
   ]
  },
  {
   "cell_type": "markdown",
   "metadata": {},
   "source": [
    "Adding orders-per-day and SKUs-per-day"
   ]
  },
  {
   "cell_type": "code",
   "execution_count": null,
   "metadata": {},
   "outputs": [],
   "source": [
    "df_orders_consolidated\\\n",
    "    = df_order_items_consolidated\\\n",
    "    .groupby(['order_purchase_timestamp', 'order_id'])\\\n",
    "    .agg({'customer_id': 'count'}).reset_index()\n",
    "df_orders_consolidated\\\n",
    "    = df_orders_consolidated\\\n",
    "    .groupby('order_purchase_timestamp')\\\n",
    "    .agg({'order_id':'count'})\\\n",
    "    .sort_values('order_purchase_timestamp')\n",
    "df_orders_consolidated\\\n",
    "    .rename(columns={'order_id': 'orders_count'}, inplace = True)"
   ]
  },
  {
   "cell_type": "code",
   "execution_count": null,
   "metadata": {},
   "outputs": [],
   "source": [
    "df_SKUs_consolidated\\\n",
    "    = df_order_items_consolidated\\\n",
    "    .groupby(['order_purchase_timestamp', 'product_id'])\\\n",
    "    .agg({'customer_id': 'count'}).reset_index()\n",
    "df_SKUs_consolidated\\\n",
    "    = df_SKUs_consolidated\\\n",
    "    .groupby('order_purchase_timestamp')\\\n",
    "    .agg({'product_id':'count'})\\\n",
    "    .sort_values('order_purchase_timestamp')\n",
    "df_SKUs_consolidated\\\n",
    "    .rename(columns={'product_id': 'SKU_count'}, inplace = True)"
   ]
  },
  {
   "cell_type": "code",
   "execution_count": null,
   "metadata": {},
   "outputs": [],
   "source": [
    "df_orders_daily\\\n",
    "    = df_orders_daily\\\n",
    "    .merge(df_orders_consolidated, on = 'order_purchase_timestamp')\n",
    "df_orders_daily\\\n",
    "    = df_orders_daily\\\n",
    "    .merge(df_SKUs_consolidated, on = 'order_purchase_timestamp')"
   ]
  },
  {
   "cell_type": "code",
   "execution_count": null,
   "metadata": {},
   "outputs": [],
   "source": [
    "df_orders_daily.rename(columns={\n",
    "    'order_id': 'order_lines',\n",
    "    'order_line_cube_in_ltr': 'total_cube',\n",
    "    'price': 'turnover',\n",
    "    'shipping_duration': 'avg_shipping_duration',\n",
    "    'shipping_time_delta': 'avg_shipping_time_delta',\n",
    "    'estimated_duration': 'avg_estimated_duration'\n",
    "    }, inplace=True)"
   ]
  },
  {
   "cell_type": "code",
   "execution_count": null,
   "metadata": {},
   "outputs": [],
   "source": [
    "df_orders_daily.info()"
   ]
  },
  {
   "cell_type": "markdown",
   "metadata": {},
   "source": [
    "---\n",
    "---\n",
    "# Exploratory data analysis\n",
    "## Are there correlations and patterns in the data which are important for the concept?\n",
    "\n",
    "### Following tables are available after the data preparation step:\n",
    "- df_order_items_consolidated\n",
    "- df_order_daily\n",
    "\n",
    "still available:\n",
    "- df_orders\n",
    "- df_order_items\n",
    "- df_products\n",
    "\n",
    "### Points of interest:\n",
    "- Patterns or correlations in the data\n",
    "- Distributions and unusual characteristics\n",
    "- Observations that lead to more detailed investigations for the business evaluation"
   ]
  },
  {
   "cell_type": "markdown",
   "metadata": {},
   "source": [
    "---\n",
    "## Order data\n",
    "### Checking order price distribution:"
   ]
  },
  {
   "cell_type": "code",
   "execution_count": null,
   "metadata": {},
   "outputs": [],
   "source": [
    "fig, (ax1, ax2) = plt.subplots(1, 2, figsize = (15, 5))\n",
    "ax1.set_title('Total range')\n",
    "ax2.set_title('Up to 500')\n",
    "\n",
    "ax2.set_xlim([0, 500])\n",
    "\n",
    "sns.distplot(df_order_items_consolidated['price'],\n",
    "            bins = 100,\n",
    "            ax = ax1,\n",
    "            axlabel = 'Unit price',\n",
    "            kde = False)\n",
    "sns.distplot(df_order_items_consolidated['price'],\n",
    "            bins = 1000,\n",
    "            ax = ax2,\n",
    "            axlabel = 'Unit price',\n",
    "            kde = False);"
   ]
  },
  {
   "cell_type": "markdown",
   "metadata": {},
   "source": [
    "No currency was provided with the data set, but I assume this Brazilian Real. The statistical mean for the item price is 120, but this based on a skewed distribution. The majority of the prices is in the lower range of up to 100.\n",
    "\n",
    "Checking the distribution of the oder status:"
   ]
  },
  {
   "cell_type": "code",
   "execution_count": null,
   "metadata": {},
   "outputs": [],
   "source": [
    "# Visualizing the distribution of the delivery status\n",
    "plt.figure(figsize = (15, 5))\n",
    "sns.countplot(df_order_items_consolidated['order_status']);"
   ]
  },
  {
   "cell_type": "code",
   "execution_count": null,
   "metadata": {},
   "outputs": [],
   "source": [
    "df_order_items_consolidated.stb.freq(['order_status'])"
   ]
  },
  {
   "cell_type": "markdown",
   "metadata": {},
   "source": [
    "Almost 100% of the orders are flagged as delivered. It's unlikely that this will give too much insights.\n",
    "\n",
    "Checking general correlations:"
   ]
  },
  {
   "cell_type": "code",
   "execution_count": null,
   "metadata": {},
   "outputs": [],
   "source": [
    "plt.figure(figsize = (15, 15))\n",
    "sns.heatmap(df_order_items_consolidated.corr(),\n",
    "            cmap = 'seismic_r',\n",
    "            vmax = 0.3, center=0,\n",
    "            square = True,\n",
    "            linewidths = 0.5,\n",
    "            cbar_kws = {\"shrink\": 0.5},\n",
    "            annot = True);"
   ]
  },
  {
   "cell_type": "markdown",
   "metadata": {},
   "source": [
    "Dependencies between dimension and weight is no surprise. We can also see that the freight price is correlated to the product weight.\n",
    "\n",
    "It would now be interesting to see if the shipping duration, its estimation and the timeliness of the shipments is correlated to the freight value. The map shows a rather low correlation."
   ]
  },
  {
   "cell_type": "code",
   "execution_count": null,
   "metadata": {},
   "outputs": [],
   "source": [
    "# Trying linear regression\n",
    "X = df_order_items_consolidated[['shipping_duration', 'estimated_duration']]\n",
    "y = df_order_items_consolidated['freight_value']"
   ]
  },
  {
   "cell_type": "code",
   "execution_count": null,
   "metadata": {},
   "outputs": [],
   "source": [
    "X_train, X_test, y_train, y_test = train_test_split(X, y, test_size = 0.33)\n",
    "# Setting up linear regresion model\n",
    "# We don't need to normalize in this case, because we have only one input feature\n",
    "lm_model = LinearRegression()\n",
    "# Fit the data to the model. Because we have only one x-feature in a form of a \n",
    "# 1Xm vector, we need to reshape it to mX1 before fitting it to the model\n",
    "lm_model.fit(X_train, y_train)\n",
    "# Generating predictions\n",
    "y_preditions_train = lm_model.predict(X_train)\n",
    "y_preditions_test = lm_model.predict(X_test)\n",
    "# Validating the precision of the model with the r2-score\n",
    "print(r2_score(y_train, y_preditions_train))\n",
    "print(r2_score(y_test, y_preditions_test))"
   ]
  },
  {
   "cell_type": "markdown",
   "metadata": {},
   "source": [
    "This looks like a rather low linear dependency. Let's check if the range of shipping durancions has some link to product price."
   ]
  },
  {
   "cell_type": "code",
   "execution_count": null,
   "metadata": {},
   "outputs": [],
   "source": [
    "# Binning of product prices\n",
    "df_order_items_consolidated['price_round']\\\n",
    "    = round(df_order_items_consolidated['price']/10)*10"
   ]
  },
  {
   "cell_type": "code",
   "execution_count": null,
   "metadata": {},
   "outputs": [],
   "source": [
    "df_ship_price_test\\\n",
    "    = df_order_items_consolidated\\\n",
    "    .groupby('price_round')\\\n",
    "    .agg({\n",
    "        'shipping_duration': ['max', 'min'],\n",
    "        'estimated_duration': ['max', 'min']\n",
    "        })\\\n",
    "    .reset_index()\\\n",
    "    .sort_values('price_round')"
   ]
  },
  {
   "cell_type": "code",
   "execution_count": null,
   "metadata": {},
   "outputs": [],
   "source": [
    "df_ship_price_test['true_ship_range']\\\n",
    "    = df_ship_price_test.shipping_duration['max']\\\n",
    "    - df_ship_price_test.shipping_duration['min']\n",
    "df_ship_price_test['estimated_ship_range']\\\n",
    "    = df_ship_price_test.estimated_duration['max']\\\n",
    "    - df_ship_price_test.estimated_duration['min']"
   ]
  },
  {
   "cell_type": "code",
   "execution_count": null,
   "metadata": {},
   "outputs": [],
   "source": [
    "df_ship_price_test"
   ]
  },
  {
   "cell_type": "code",
   "execution_count": null,
   "metadata": {},
   "outputs": [],
   "source": [
    "plt.figure(figsize=(15, 5))\n",
    "sns.scatterplot(data = df_ship_price_test,\n",
    "                y = 'true_ship_range',\n",
    "                x = 'price_round')\n",
    "sns.scatterplot(data = df_ship_price_test,\n",
    "                y = 'estimated_ship_range',\n",
    "                x = 'price_round')\n",
    "plt.legend([\n",
    "            'Range of shipping durations',\n",
    "            'Range of estimated shipping durations'\n",
    "            ]);"
   ]
  },
  {
   "cell_type": "markdown",
   "metadata": {},
   "source": [
    "## Theses scatterplots are temporarily deactivated because they increase the file size."
   ]
  },
  {
   "cell_type": "code",
   "execution_count": null,
   "metadata": {},
   "outputs": [],
   "source": [
    "#plt.figure(figsize=(15, 5))\n",
    "#sns.scatterplot(data = df_order_items_consolidated, x = 'price', y = 'shipping_duration')\n",
    "#plt.xlabel('Product Price')\n",
    "#plt.ylabel('Shipping duration');"
   ]
  },
  {
   "cell_type": "code",
   "execution_count": null,
   "metadata": {},
   "outputs": [],
   "source": [
    "#plt.figure(figsize=(15, 5))\n",
    "#sns.scatterplot(data = df_order_items_consolidated, x = 'price', y = 'estimated_duration')\n",
    "#plt.xlabel('Product Price')\n",
    "#plt.ylabel('Estimated duration');"
   ]
  },
  {
   "cell_type": "code",
   "execution_count": null,
   "metadata": {},
   "outputs": [],
   "source": [
    "#plt.figure(figsize=(15, 5))\n",
    "#sns.scatterplot(data = df_order_items_consolidated, x = 'price', y = 'shipping_time_delta')\n",
    "#plt.xlabel('Product Price')\n",
    "#plt.ylabel('Planned vs. true delivery duration');"
   ]
  },
  {
   "cell_type": "markdown",
   "metadata": {},
   "source": [
    "### Reviewing product categories"
   ]
  },
  {
   "cell_type": "markdown",
   "metadata": {},
   "source": [
    "20 Most sold product categories:"
   ]
  },
  {
   "cell_type": "code",
   "execution_count": null,
   "metadata": {},
   "outputs": [],
   "source": [
    "plt.xlabel('Product category')\n",
    "plt.ylabel('Units sold')\n",
    "df_order_items_consolidated['product_category_name']\\\n",
    "    .value_counts()\\\n",
    "    .plot(kind = \"bar\", fontsize = 15, figsize = (15, 5))\n",
    "plt.xlim(0, 10);"
   ]
  },
  {
   "cell_type": "code",
   "execution_count": null,
   "metadata": {},
   "outputs": [],
   "source": [
    "df_order_items_consolidated['product_category_name'].value_counts().head(20)"
   ]
  },
  {
   "cell_type": "code",
   "execution_count": null,
   "metadata": {},
   "outputs": [],
   "source": [
    "df_order_items_consolidated['product_category_name'].count()"
   ]
  },
  {
   "cell_type": "markdown",
   "metadata": {},
   "source": [
    "20 product caregories with hightest turnover:"
   ]
  },
  {
   "cell_type": "code",
   "execution_count": null,
   "metadata": {},
   "outputs": [],
   "source": [
    "df_order_items_consolidated\\\n",
    "    .groupby('product_category_name')\\\n",
    "    .agg({'price': 'sum'})\\\n",
    "    .sort_values(by = 'price', ascending = False)\\\n",
    "    .plot(kind = \"bar\", fontsize = 15, figsize = (15, 5))\n",
    "plt.xlabel('Product category')\n",
    "plt.ylabel('Total turnover')\n",
    "plt.xlim(0, 10);"
   ]
  },
  {
   "cell_type": "code",
   "execution_count": null,
   "metadata": {},
   "outputs": [],
   "source": [
    "df_order_items_consolidated\\\n",
    "    .groupby('product_category_name')\\\n",
    "    .agg({'price': 'sum'})\\\n",
    "    .sort_values(by = 'price', ascending = False)\\\n",
    "    .head(20)"
   ]
  },
  {
   "cell_type": "code",
   "execution_count": null,
   "metadata": {},
   "outputs": [],
   "source": [
    "df_order_items_consolidated['price'].sum()"
   ]
  },
  {
   "cell_type": "markdown",
   "metadata": {},
   "source": [
    "Product categories with the most SKUs:"
   ]
  },
  {
   "cell_type": "code",
   "execution_count": null,
   "metadata": {},
   "outputs": [],
   "source": [
    "df_products\\\n",
    "    .groupby('product_category_name')\\\n",
    "    .agg({'product_id': 'count'})\\\n",
    "    .sort_values(by = 'product_id', ascending = False)\\\n",
    "    .plot(kind = \"bar\", fontsize = 15, figsize = (15, 5))\n",
    "plt.xlabel('Product category')\n",
    "plt.ylabel('Active SKUs')\n",
    "plt.xlim(0, 10);"
   ]
  },
  {
   "cell_type": "code",
   "execution_count": null,
   "metadata": {},
   "outputs": [],
   "source": [
    "df_products['product_category_name'].value_counts().head(20)"
   ]
  },
  {
   "cell_type": "markdown",
   "metadata": {},
   "source": [
    "### Exploratory analysis conclusions\n",
    "\n",
    "1) The top 10 product categories are (s. also bar charts):\n",
    "- cama_mesa_banho\n",
    "- esporte_lazer\n",
    "- moveis_decoracao\n",
    "- beleza_saude\n",
    "- utilidades_domesticas\n",
    "- automotivo\n",
    "- informatica_acessorios\n",
    "- brinquedos\n",
    "- relogios_presentes\n",
    "- telefonia\n",
    "- bebes\n",
    "\n",
    "2) Categories of special interest: beleza_saude, relogios_presentes\n",
    "\n",
    "3) Procut categories mostly in the lower range of up to 100 Real, some outliers exceed to 7000 Real\n",
    "\n",
    "4) Delivery time for expensive product has potentially lower variance"
   ]
  },
  {
   "cell_type": "markdown",
   "metadata": {},
   "source": [
    "---\n",
    "---\n",
    "## Time series analysis\n",
    "\n",
    "### Purpose\n",
    "- Finding trends over time that allows predictions for the future\n",
    "- Visualizing if there are repeating patterns (seasonality or other)\n",
    "- Exploring unusual observations and how predictable the data are"
   ]
  },
  {
   "cell_type": "code",
   "execution_count": null,
   "metadata": {},
   "outputs": [],
   "source": [
    "df_orders_daily"
   ]
  },
  {
   "cell_type": "code",
   "execution_count": null,
   "metadata": {},
   "outputs": [],
   "source": [
    "fig, (ax1, ax2, ax3) = plt.subplots(3, 1, figsize = (15, 15))\n",
    "ax1.set_title('Total quantity')\n",
    "ax2.set_title('Total price')\n",
    "ax3.set_title('Average delivery durations and estimations')\n",
    "\n",
    "sns.lineplot(\n",
    "            data = df_orders_daily,\n",
    "            x = 'order_purchase_timestamp',\n",
    "            y ='qty',\n",
    "            ax = ax1\n",
    "            )\n",
    "\n",
    "sns.lineplot(\n",
    "            data = df_orders_daily,\n",
    "            x = 'order_purchase_timestamp',\n",
    "            y = 'turnover',\n",
    "            ax = ax2\n",
    "            )\n",
    "\n",
    "sns.lineplot(\n",
    "            data = df_orders_daily,\n",
    "            x = 'order_purchase_timestamp',\n",
    "            y = 'avg_shipping_duration',\n",
    "            ax = ax3\n",
    "            )\n",
    "sns.lineplot(\n",
    "            data = df_orders_daily,\n",
    "            x = 'order_purchase_timestamp',\n",
    "            y = 'avg_shipping_time_delta',\n",
    "            ax = ax3\n",
    "            )\n",
    "sns.lineplot(\n",
    "            data = df_orders_daily,\n",
    "            x = 'order_purchase_timestamp',\n",
    "            y = 'avg_estimated_duration',\n",
    "            ax = ax3\n",
    "            )\n",
    "\n",
    "ax1.set(xlabel = 'Order date', ylabel = 'Total quantity ordered')\n",
    "ax2.set(xlabel = 'Order date', ylabel = 'Total product turnover')\n",
    "ax3.set(xlabel = 'Order date', ylabel = 'Days', ylim = (-20, 50))\n",
    "ax3.legend([\n",
    "            'Average delivery time',\n",
    "            'Delivery time delta',\n",
    "            'Estimated duration'\n",
    "            ]);"
   ]
  },
  {
   "cell_type": "code",
   "execution_count": null,
   "metadata": {},
   "outputs": [],
   "source": [
    "# Finding the location of the spike\n",
    "df_orders_daily[df_orders_daily['qty'] == df_orders_daily['qty'].max()]"
   ]
  },
  {
   "cell_type": "markdown",
   "metadata": {},
   "source": [
    "The upper three time series charts above show the daily summarized total units and order lines shipped and tunover. The time chart below that shows average delivery duration, estimated delivery duration and time delta between estimated date and true date (positive values indicate that the shippment arrived earlier than predicted).\n",
    "\n",
    "The general trend shows an increase in the order volume. There is a heavy peak at Black Friday. The spike can be expected for an e-commerce business, but the magnitude is concerning when it comes to projections in logistic- and warehouse concept development.\n",
    "\n",
    "During Black Friday the average shipping duration went up and the time estimation had less buffer.\n",
    "\n",
    "There is a sudden steep uptick in the estimated shippment estimation mid to end of June 2018. This falls in the time period of the FIFA World Cup. Because shipping durations did not go up in this time the sipping duration was overestimated (more safety was included)."
   ]
  },
  {
   "cell_type": "code",
   "execution_count": null,
   "metadata": {},
   "outputs": [],
   "source": [
    "df_orders_daily[[\n",
    "                'qty',\n",
    "                'order_lines',\n",
    "                'orders_count',\n",
    "                'SKU_count',\n",
    "                'total_cube',\n",
    "                'turnover'\n",
    "                ]].describe()"
   ]
  },
  {
   "cell_type": "code",
   "execution_count": null,
   "metadata": {},
   "outputs": [],
   "source": [
    "plt.figure(figsize=(15, 7))\n",
    "ax = sns.regplot(\n",
    "                data = df_orders_daily,\n",
    "                x = 'date_ordinal',\n",
    "                y = 'qty',\n",
    "                color = 'royalblue')\n",
    "\n",
    "ax.set_xlim(df_orders_daily['date_ordinal'].min()\n",
    "            - 1, df_orders_daily['date_ordinal'].max()\n",
    "            + 1)\n",
    "ax.set_ylim(0, df_orders_daily['qty'].max() + 1)\n",
    "\n",
    "ax.set_xlabel('Order date')\n",
    "ax.set_ylabel('Total quantity')\n",
    "new_labels = [dt.fromordinal(int(item)) for item in ax.get_xticks()]\n",
    "ax.set_xticklabels(new_labels)\n",
    "ax.tick_params(labelrotation=45)"
   ]
  },
  {
   "cell_type": "markdown",
   "metadata": {},
   "source": [
    "There is a clear upward trend in the business which can be seen in turnover and order volume.\n",
    "Alsough the spike at Black Friday is typical for e-commerce businesses, the enormeous magnitude is a concern which needs to be addressed in the review of the logistic process."
   ]
  },
  {
   "cell_type": "markdown",
   "metadata": {},
   "source": [
    "### Linear regression"
   ]
  },
  {
   "cell_type": "markdown",
   "metadata": {},
   "source": [
    "Splitting the data into target feature (for simplicity we select quantity,\n",
    "but the process could be repeated for turnover and order lines) and the timeline.\n",
    "Normally, all remaining numerical features would represent the input values,\n",
    "but in this case all these values are linked and dependent on each other\n",
    "(more qty means more turnover and more order lines)."
   ]
  },
  {
   "cell_type": "code",
   "execution_count": null,
   "metadata": {},
   "outputs": [],
   "source": [
    "# Separating features and results\n",
    "X = pd.to_datetime(df_orders_daily['order_purchase_timestamp'])\n",
    "y = np.array(df_orders_daily['qty'])\n",
    "# Splitting into train- and test data\n",
    "X_train, X_test, y_train, y_test = train_test_split(X, y, test_size=0.33)\n",
    "# Setting up linear regresion model\n",
    "# We don't need to normalize in this case, because we have only one input feature\n",
    "lm_model = LinearRegression()\n",
    "# Fit the data to the model. Because we have only one x-feature in a form of a \n",
    "# 1Xm vector, we need to reshape it to mX1 before fitting it to the model\n",
    "lm_model.fit(X_train.values.reshape(-1, 1), y_train.reshape(-1, 1))\n",
    "# Generating predictions\n",
    "y_preditions_train = lm_model.predict(X_train.values.astype(float).reshape(-1, 1))\n",
    "y_preditions_test = lm_model.predict(X_test.values.astype(float).reshape(-1, 1))\n",
    "# Validating the precision of the model with the r2-score\n",
    "print(r2_score(y_train, y_preditions_train))\n",
    "print(r2_score(y_test, y_preditions_test))"
   ]
  },
  {
   "cell_type": "markdown",
   "metadata": {},
   "source": [
    "This looks like a pretty bad working model. Potentially, the data points have a too high variation which makes predictions uncertain. I tried with different training sized with the same outcome. That means the sizing of a potential future logistic process need to have enough flexibility to handle this variance.\n",
    "\n",
    "Let's try a data set wich has the days with extreme outliers. The drop of data at the end of the dataset could potentially be incomplete data (because the orders have not been delivered/ completed?). The tailend after 2018-08-16 will be removed from the data set. For the system sizing of a hypothetical warehouse system this would mean we need to describe a peak day scenario separately."
   ]
  },
  {
   "cell_type": "code",
   "execution_count": null,
   "metadata": {},
   "outputs": [],
   "source": [
    "df_orders_no_peaks = df_orders_daily.iloc[14:-14]\n",
    "df_orders_no_peaks\\\n",
    "    .drop(df_orders_no_peaks[df_orders_no_peaks.qty > 400]\\\n",
    "    .index, inplace=True)"
   ]
  },
  {
   "cell_type": "code",
   "execution_count": null,
   "metadata": {},
   "outputs": [],
   "source": [
    "plt.figure(figsize = (15, 5))\n",
    "sns.lineplot(\n",
    "            data = df_orders_no_peaks,\n",
    "            x = 'order_purchase_timestamp',\n",
    "            y = 'qty'\n",
    "            );"
   ]
  },
  {
   "cell_type": "markdown",
   "metadata": {},
   "source": [
    "Setting up the linear regression model with this data:"
   ]
  },
  {
   "cell_type": "code",
   "execution_count": null,
   "metadata": {},
   "outputs": [],
   "source": [
    "X = pd.to_datetime(df_orders_no_peaks['order_purchase_timestamp'])\n",
    "y = np.array(df_orders_no_peaks['qty'])\n",
    "X_train, X_test, y_train, y_test = train_test_split(X, y, test_size = 0.33)\n",
    "lm_model = LinearRegression()\n",
    "lm_model.fit(X_train.values.reshape(-1, 1), y_train.reshape(-1, 1))\n",
    "y_preditions_train = lm_model.predict(X_train.values.astype(float).reshape(-1, 1))\n",
    "y_preditions_test = lm_model.predict(X_test.values.astype(float).reshape(-1, 1))\n",
    "print(r2_score(y_train, y_preditions_train))\n",
    "print(r2_score(y_test, y_preditions_test))"
   ]
  },
  {
   "cell_type": "markdown",
   "metadata": {},
   "source": [
    "This looks slightly better. This model predicts in the range of 55-65% accuracy. Let's visualize this model and extend the prognosis to 2020."
   ]
  },
  {
   "cell_type": "code",
   "execution_count": null,
   "metadata": {},
   "outputs": [],
   "source": [
    "# Generating dummy data set for prediction timeframe\n",
    "pred_dates = pd.Series(pd.date_range(\n",
    "                        start='2017-01-01',\n",
    "                        end = '2020-01-01',\n",
    "                        freq='d'\n",
    "                        ))\n",
    "df_pred = pd.DataFrame({'date': pred_dates})\n",
    "df_pred['reg_line']\\\n",
    "    = lm_model.predict(pred_dates.values.astype(float).reshape(-1, 1))\n",
    "df_pred.head()"
   ]
  },
  {
   "cell_type": "code",
   "execution_count": null,
   "metadata": {},
   "outputs": [],
   "source": [
    "plt.figure(figsize = (15, 5))\n",
    "sns.lineplot(\n",
    "            data = df_orders_no_peaks,\n",
    "            x = 'order_purchase_timestamp',\n",
    "            y = 'qty'\n",
    "            )\n",
    "sns.lineplot(\n",
    "            data = df_pred,\n",
    "            x = 'date',\n",
    "            y = 'reg_line'\n",
    "            )\n",
    "plt.xlabel('Date')\n",
    "plt.ylabel('Order volume (units/ day)')\n",
    "plt.legend(['Historical order volume', 'Linear regression line']);"
   ]
  },
  {
   "cell_type": "markdown",
   "metadata": {},
   "source": [
    "To satisfy a system sizing, a point in the higher capacity range needs to be selected. Let's take a look at the distribution:"
   ]
  },
  {
   "cell_type": "code",
   "execution_count": null,
   "metadata": {},
   "outputs": [],
   "source": [
    "plt.figure(figsize = (15,3))\n",
    "sns.boxplot(y = 'qty', data = df_orders_no_peaks, orient='h')\n",
    "plt.xlabel('Daily qantity distribution');"
   ]
  },
  {
   "cell_type": "markdown",
   "metadata": {},
   "source": [
    "The third quartile seems to be a good initial level."
   ]
  },
  {
   "cell_type": "code",
   "execution_count": null,
   "metadata": {},
   "outputs": [],
   "source": [
    "design_to_avergae_factor = np.percentile(df_orders_no_peaks['qty'], 75)\\\n",
    "                            /np.median(df_orders_no_peaks['qty'])"
   ]
  },
  {
   "cell_type": "code",
   "execution_count": null,
   "metadata": {},
   "outputs": [],
   "source": [
    "# Creating design capacity line\n",
    "df_pred['design_value'] = df_pred['reg_line'] * design_to_avergae_factor"
   ]
  },
  {
   "cell_type": "code",
   "execution_count": null,
   "metadata": {},
   "outputs": [],
   "source": [
    "plt.figure(figsize=(15,5))\n",
    "sns.lineplot(data=df_orders_no_peaks, x='order_purchase_timestamp',y='qty')\n",
    "sns.lineplot(data=df_pred, x='date',y='reg_line')\n",
    "sns.lineplot(data=df_pred, x='date',y='design_value')\n",
    "plt.xlabel('Date')\n",
    "plt.ylabel('Order volume (units/ day)')\n",
    "plt.legend([\n",
    "        'Historical order volume',\n",
    "        'Linear regression line',\n",
    "        'Design criteria line'\n",
    "        ]);"
   ]
  },
  {
   "cell_type": "markdown",
   "metadata": {},
   "source": [
    "## Conclusion:\n",
    "The order volume is too dynamic to do a very safe prognosis. The linear regression model with data outliers removed reaches a prediction probability of 55-65%. Sizing an automated logistic system for this profile is very challenging. Sizing a system to the observed peak would be very costly, sizing it to a lower level would require to find solutions at times with over-capacity. It would come down to a balancing act of comparing degrees of automation and added manpower in heavy periods.\n",
    "\n",
    "We are looking at average 500 units per day in 2020. This is a very low number for an automated system. It's likely that there would be no good ROI."
   ]
  },
  {
   "cell_type": "markdown",
   "metadata": {},
   "source": [
    "Exporting generated dataframes"
   ]
  },
  {
   "cell_type": "code",
   "execution_count": null,
   "metadata": {},
   "outputs": [],
   "source": [
    "#df_order_items_consolidated.to_csv('df_orders_consolidated.csv')"
   ]
  },
  {
   "cell_type": "code",
   "execution_count": null,
   "metadata": {},
   "outputs": [],
   "source": []
  }
 ],
 "metadata": {
  "kernelspec": {
   "display_name": "Python 3",
   "language": "python",
   "name": "python3"
  },
  "language_info": {
   "codemirror_mode": {
    "name": "ipython",
    "version": 3
   },
   "file_extension": ".py",
   "mimetype": "text/x-python",
   "name": "python",
   "nbconvert_exporter": "python",
   "pygments_lexer": "ipython3",
   "version": "3.8.3-final"
  }
 },
 "nbformat": 4,
 "nbformat_minor": 2
}