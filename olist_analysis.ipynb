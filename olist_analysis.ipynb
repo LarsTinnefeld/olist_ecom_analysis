{
 "metadata": {
  "language_info": {
   "codemirror_mode": {
    "name": "ipython",
    "version": 3
   },
   "file_extension": ".py",
   "mimetype": "text/x-python",
   "name": "python",
   "nbconvert_exporter": "python",
   "pygments_lexer": "ipython3",
   "version": "3.8.3-final"
  },
  "orig_nbformat": 2,
  "kernelspec": {
   "name": "python3",
   "display_name": "Python 3"
  }
 },
 "nbformat": 4,
 "nbformat_minor": 2,
 "cells": [
  {
   "source": [
    "# Importing libraries"
   ],
   "cell_type": "markdown",
   "metadata": {}
  },
  {
   "cell_type": "code",
   "execution_count": 1,
   "metadata": {},
   "outputs": [],
   "source": [
    "import pandas as pd\n",
    "import numpy as np\n",
    "import matplotlib.pyplot as plt\n",
    "import seaborn as sns\n",
    "import operator\n",
    "%matplotlib inline"
   ]
  },
  {
   "source": [
    "# Importing data tables\n",
    "High level view of the content. Not all available data tables will be required for the project."
   ],
   "cell_type": "markdown",
   "metadata": {}
  },
  {
   "cell_type": "code",
   "execution_count": 4,
   "metadata": {},
   "outputs": [],
   "source": [
    "df_orders = pd.read_csv(\"olist_orders_dataset.csv\")\n",
    "df_order_items = pd.read_csv(\"olist_order_items_dataset.csv\")\n",
    "df_order_review = pd.read_csv(\"olist_order_reviews_dataset.csv\")\n",
    "df_products = pd.read_csv(\"olist_products_dataset.csv\")"
   ]
  },
  {
   "source": [
    "### Taking a look at the order data"
   ],
   "cell_type": "markdown",
   "metadata": {}
  },
  {
   "cell_type": "code",
   "execution_count": 8,
   "metadata": {},
   "outputs": [
    {
     "output_type": "execute_result",
     "data": {
      "text/plain": [
       "                               count unique                               top  \\\n",
       "order_id                       99441  99441  fb73306df41afb7ed9222b25f9ebdfb4   \n",
       "customer_id                    99441  99441  6b9cd57e8da503b79dc6e58b438e77de   \n",
       "order_status                   99441      8                         delivered   \n",
       "order_purchase_timestamp       99441  98875               2018-08-02 12:05:26   \n",
       "order_approved_at              99281  90733               2018-02-27 04:31:10   \n",
       "order_delivered_carrier_date   97658  81018               2018-05-09 15:48:00   \n",
       "order_delivered_customer_date  96476  95664               2016-10-27 17:32:07   \n",
       "order_estimated_delivery_date  99441    459               2017-12-20 00:00:00   \n",
       "\n",
       "                                freq  \n",
       "order_id                           1  \n",
       "customer_id                        1  \n",
       "order_status                   96478  \n",
       "order_purchase_timestamp           3  \n",
       "order_approved_at                  9  \n",
       "order_delivered_carrier_date      47  \n",
       "order_delivered_customer_date      3  \n",
       "order_estimated_delivery_date    522  "
      ],
      "text/html": "<div>\n<style scoped>\n    .dataframe tbody tr th:only-of-type {\n        vertical-align: middle;\n    }\n\n    .dataframe tbody tr th {\n        vertical-align: top;\n    }\n\n    .dataframe thead th {\n        text-align: right;\n    }\n</style>\n<table border=\"1\" class=\"dataframe\">\n  <thead>\n    <tr style=\"text-align: right;\">\n      <th></th>\n      <th>count</th>\n      <th>unique</th>\n      <th>top</th>\n      <th>freq</th>\n    </tr>\n  </thead>\n  <tbody>\n    <tr>\n      <th>order_id</th>\n      <td>99441</td>\n      <td>99441</td>\n      <td>fb73306df41afb7ed9222b25f9ebdfb4</td>\n      <td>1</td>\n    </tr>\n    <tr>\n      <th>customer_id</th>\n      <td>99441</td>\n      <td>99441</td>\n      <td>6b9cd57e8da503b79dc6e58b438e77de</td>\n      <td>1</td>\n    </tr>\n    <tr>\n      <th>order_status</th>\n      <td>99441</td>\n      <td>8</td>\n      <td>delivered</td>\n      <td>96478</td>\n    </tr>\n    <tr>\n      <th>order_purchase_timestamp</th>\n      <td>99441</td>\n      <td>98875</td>\n      <td>2018-08-02 12:05:26</td>\n      <td>3</td>\n    </tr>\n    <tr>\n      <th>order_approved_at</th>\n      <td>99281</td>\n      <td>90733</td>\n      <td>2018-02-27 04:31:10</td>\n      <td>9</td>\n    </tr>\n    <tr>\n      <th>order_delivered_carrier_date</th>\n      <td>97658</td>\n      <td>81018</td>\n      <td>2018-05-09 15:48:00</td>\n      <td>47</td>\n    </tr>\n    <tr>\n      <th>order_delivered_customer_date</th>\n      <td>96476</td>\n      <td>95664</td>\n      <td>2016-10-27 17:32:07</td>\n      <td>3</td>\n    </tr>\n    <tr>\n      <th>order_estimated_delivery_date</th>\n      <td>99441</td>\n      <td>459</td>\n      <td>2017-12-20 00:00:00</td>\n      <td>522</td>\n    </tr>\n  </tbody>\n</table>\n</div>"
     },
     "metadata": {},
     "execution_count": 8
    }
   ],
   "source": [
    "df_orders.describe().transpose()"
   ]
  },
  {
   "cell_type": "code",
   "execution_count": 9,
   "metadata": {},
   "outputs": [
    {
     "output_type": "stream",
     "name": "stdout",
     "text": [
      "<class 'pandas.core.frame.DataFrame'>\nRangeIndex: 99441 entries, 0 to 99440\nData columns (total 8 columns):\n #   Column                         Non-Null Count  Dtype \n---  ------                         --------------  ----- \n 0   order_id                       99441 non-null  object\n 1   customer_id                    99441 non-null  object\n 2   order_status                   99441 non-null  object\n 3   order_purchase_timestamp       99441 non-null  object\n 4   order_approved_at              99281 non-null  object\n 5   order_delivered_carrier_date   97658 non-null  object\n 6   order_delivered_customer_date  96476 non-null  object\n 7   order_estimated_delivery_date  99441 non-null  object\ndtypes: object(8)\nmemory usage: 6.1+ MB\n"
     ]
    }
   ],
   "source": [
    "df_orders.info()"
   ]
  },
  {
   "cell_type": "code",
   "execution_count": 23,
   "metadata": {},
   "outputs": [
    {
     "output_type": "execute_result",
     "data": {
      "text/plain": [
       "99441"
      ]
     },
     "metadata": {},
     "execution_count": 23
    }
   ],
   "source": [
    "len(df_orders['order_id'].unique())"
   ]
  },
  {
   "source": [
    "Contains order IDs with timestamps and customer. A few missing data in the date fields. Date will need to be formatted as datetime."
   ],
   "cell_type": "markdown",
   "metadata": {}
  },
  {
   "source": [
    "### Taking a look at the order item data"
   ],
   "cell_type": "markdown",
   "metadata": {}
  },
  {
   "cell_type": "code",
   "execution_count": 10,
   "metadata": {},
   "outputs": [
    {
     "output_type": "execute_result",
     "data": {
      "text/plain": [
       "       order_item_id          price  freight_value\n",
       "count  112650.000000  112650.000000  112650.000000\n",
       "mean        1.197834     120.653739      19.990320\n",
       "std         0.705124     183.633928      15.806405\n",
       "min         1.000000       0.850000       0.000000\n",
       "25%         1.000000      39.900000      13.080000\n",
       "50%         1.000000      74.990000      16.260000\n",
       "75%         1.000000     134.900000      21.150000\n",
       "max        21.000000    6735.000000     409.680000"
      ],
      "text/html": "<div>\n<style scoped>\n    .dataframe tbody tr th:only-of-type {\n        vertical-align: middle;\n    }\n\n    .dataframe tbody tr th {\n        vertical-align: top;\n    }\n\n    .dataframe thead th {\n        text-align: right;\n    }\n</style>\n<table border=\"1\" class=\"dataframe\">\n  <thead>\n    <tr style=\"text-align: right;\">\n      <th></th>\n      <th>order_item_id</th>\n      <th>price</th>\n      <th>freight_value</th>\n    </tr>\n  </thead>\n  <tbody>\n    <tr>\n      <th>count</th>\n      <td>112650.000000</td>\n      <td>112650.000000</td>\n      <td>112650.000000</td>\n    </tr>\n    <tr>\n      <th>mean</th>\n      <td>1.197834</td>\n      <td>120.653739</td>\n      <td>19.990320</td>\n    </tr>\n    <tr>\n      <th>std</th>\n      <td>0.705124</td>\n      <td>183.633928</td>\n      <td>15.806405</td>\n    </tr>\n    <tr>\n      <th>min</th>\n      <td>1.000000</td>\n      <td>0.850000</td>\n      <td>0.000000</td>\n    </tr>\n    <tr>\n      <th>25%</th>\n      <td>1.000000</td>\n      <td>39.900000</td>\n      <td>13.080000</td>\n    </tr>\n    <tr>\n      <th>50%</th>\n      <td>1.000000</td>\n      <td>74.990000</td>\n      <td>16.260000</td>\n    </tr>\n    <tr>\n      <th>75%</th>\n      <td>1.000000</td>\n      <td>134.900000</td>\n      <td>21.150000</td>\n    </tr>\n    <tr>\n      <th>max</th>\n      <td>21.000000</td>\n      <td>6735.000000</td>\n      <td>409.680000</td>\n    </tr>\n  </tbody>\n</table>\n</div>"
     },
     "metadata": {},
     "execution_count": 10
    }
   ],
   "source": [
    "df_order_items.describe()"
   ]
  },
  {
   "cell_type": "code",
   "execution_count": 11,
   "metadata": {},
   "outputs": [
    {
     "output_type": "stream",
     "name": "stdout",
     "text": [
      "<class 'pandas.core.frame.DataFrame'>\nRangeIndex: 112650 entries, 0 to 112649\nData columns (total 7 columns):\n #   Column               Non-Null Count   Dtype  \n---  ------               --------------   -----  \n 0   order_id             112650 non-null  object \n 1   order_item_id        112650 non-null  int64  \n 2   product_id           112650 non-null  object \n 3   seller_id            112650 non-null  object \n 4   shipping_limit_date  112650 non-null  object \n 5   price                112650 non-null  float64\n 6   freight_value        112650 non-null  float64\ndtypes: float64(2), int64(1), object(4)\nmemory usage: 6.0+ MB\n"
     ]
    }
   ],
   "source": [
    "df_order_items.info()"
   ]
  },
  {
   "cell_type": "code",
   "execution_count": 22,
   "metadata": {},
   "outputs": [
    {
     "output_type": "execute_result",
     "data": {
      "text/plain": [
       "98666"
      ]
     },
     "metadata": {},
     "execution_count": 22
    }
   ],
   "source": [
    "len(df_order_items['order_id'].unique())"
   ]
  },
  {
   "source": [
    "Contains the order in detail with SKUs, seller and prices. No missing data, data formats appear to be set correctly. The order ID count is higher than in the order data which is would appear logic as oders will sometimes contain more than one order line. But in reality, there are more than 700 order IDs missing as the count of unique values shows."
   ],
   "cell_type": "markdown",
   "metadata": {}
  },
  {
   "source": [
    "### Taking a look at the order review data"
   ],
   "cell_type": "markdown",
   "metadata": {}
  },
  {
   "cell_type": "code",
   "execution_count": 12,
   "metadata": {},
   "outputs": [
    {
     "output_type": "execute_result",
     "data": {
      "text/plain": [
       "        review_score\n",
       "count  100000.000000\n",
       "mean        4.070890\n",
       "std         1.359663\n",
       "min         1.000000\n",
       "25%         4.000000\n",
       "50%         5.000000\n",
       "75%         5.000000\n",
       "max         5.000000"
      ],
      "text/html": "<div>\n<style scoped>\n    .dataframe tbody tr th:only-of-type {\n        vertical-align: middle;\n    }\n\n    .dataframe tbody tr th {\n        vertical-align: top;\n    }\n\n    .dataframe thead th {\n        text-align: right;\n    }\n</style>\n<table border=\"1\" class=\"dataframe\">\n  <thead>\n    <tr style=\"text-align: right;\">\n      <th></th>\n      <th>review_score</th>\n    </tr>\n  </thead>\n  <tbody>\n    <tr>\n      <th>count</th>\n      <td>100000.000000</td>\n    </tr>\n    <tr>\n      <th>mean</th>\n      <td>4.070890</td>\n    </tr>\n    <tr>\n      <th>std</th>\n      <td>1.359663</td>\n    </tr>\n    <tr>\n      <th>min</th>\n      <td>1.000000</td>\n    </tr>\n    <tr>\n      <th>25%</th>\n      <td>4.000000</td>\n    </tr>\n    <tr>\n      <th>50%</th>\n      <td>5.000000</td>\n    </tr>\n    <tr>\n      <th>75%</th>\n      <td>5.000000</td>\n    </tr>\n    <tr>\n      <th>max</th>\n      <td>5.000000</td>\n    </tr>\n  </tbody>\n</table>\n</div>"
     },
     "metadata": {},
     "execution_count": 12
    }
   ],
   "source": [
    "df_order_review.describe()"
   ]
  },
  {
   "cell_type": "code",
   "execution_count": 13,
   "metadata": {},
   "outputs": [
    {
     "output_type": "stream",
     "name": "stdout",
     "text": [
      "<class 'pandas.core.frame.DataFrame'>\nRangeIndex: 100000 entries, 0 to 99999\nData columns (total 7 columns):\n #   Column                   Non-Null Count   Dtype \n---  ------                   --------------   ----- \n 0   review_id                100000 non-null  object\n 1   order_id                 100000 non-null  object\n 2   review_score             100000 non-null  int64 \n 3   review_comment_title     11715 non-null   object\n 4   review_comment_message   41753 non-null   object\n 5   review_creation_date     100000 non-null  object\n 6   review_answer_timestamp  100000 non-null  object\ndtypes: int64(1), object(6)\nmemory usage: 5.3+ MB\n"
     ]
    }
   ],
   "source": [
    "df_order_review.info()"
   ]
  },
  {
   "cell_type": "code",
   "execution_count": 25,
   "metadata": {},
   "outputs": [
    {
     "output_type": "execute_result",
     "data": {
      "text/plain": [
       "99173"
      ]
     },
     "metadata": {},
     "execution_count": 25
    }
   ],
   "source": [
    "len(df_order_review['review_id'].unique())"
   ]
  },
  {
   "cell_type": "code",
   "execution_count": 27,
   "metadata": {},
   "outputs": [
    {
     "output_type": "execute_result",
     "data": {
      "text/plain": [
       "99441"
      ]
     },
     "metadata": {},
     "execution_count": 27
    }
   ],
   "source": [
    "len(df_order_review['order_id'].unique())"
   ]
  },
  {
   "source": [
    "The lookup table contains review scores of orders along with the message and dates. There are a few more reviews listed than unique order IDs in the order file, even so the unique count matches. We will take a look at that. Many missing comments (less than 50%)."
   ],
   "cell_type": "markdown",
   "metadata": {}
  },
  {
   "source": [
    "### Taking a look at the products"
   ],
   "cell_type": "markdown",
   "metadata": {}
  },
  {
   "cell_type": "code",
   "execution_count": 14,
   "metadata": {},
   "outputs": [
    {
     "output_type": "execute_result",
     "data": {
      "text/plain": [
       "       product_name_lenght  product_description_lenght  product_photos_qty  \\\n",
       "count         32341.000000                32341.000000        32341.000000   \n",
       "mean             48.476949                  771.495285            2.188986   \n",
       "std              10.245741                  635.115225            1.736766   \n",
       "min               5.000000                    4.000000            1.000000   \n",
       "25%              42.000000                  339.000000            1.000000   \n",
       "50%              51.000000                  595.000000            1.000000   \n",
       "75%              57.000000                  972.000000            3.000000   \n",
       "max              76.000000                 3992.000000           20.000000   \n",
       "\n",
       "       product_weight_g  product_length_cm  product_height_cm  \\\n",
       "count      32949.000000       32949.000000       32949.000000   \n",
       "mean        2276.472488          30.815078          16.937661   \n",
       "std         4282.038731          16.914458          13.637554   \n",
       "min            0.000000           7.000000           2.000000   \n",
       "25%          300.000000          18.000000           8.000000   \n",
       "50%          700.000000          25.000000          13.000000   \n",
       "75%         1900.000000          38.000000          21.000000   \n",
       "max        40425.000000         105.000000         105.000000   \n",
       "\n",
       "       product_width_cm  \n",
       "count      32949.000000  \n",
       "mean          23.196728  \n",
       "std           12.079047  \n",
       "min            6.000000  \n",
       "25%           15.000000  \n",
       "50%           20.000000  \n",
       "75%           30.000000  \n",
       "max          118.000000  "
      ],
      "text/html": "<div>\n<style scoped>\n    .dataframe tbody tr th:only-of-type {\n        vertical-align: middle;\n    }\n\n    .dataframe tbody tr th {\n        vertical-align: top;\n    }\n\n    .dataframe thead th {\n        text-align: right;\n    }\n</style>\n<table border=\"1\" class=\"dataframe\">\n  <thead>\n    <tr style=\"text-align: right;\">\n      <th></th>\n      <th>product_name_lenght</th>\n      <th>product_description_lenght</th>\n      <th>product_photos_qty</th>\n      <th>product_weight_g</th>\n      <th>product_length_cm</th>\n      <th>product_height_cm</th>\n      <th>product_width_cm</th>\n    </tr>\n  </thead>\n  <tbody>\n    <tr>\n      <th>count</th>\n      <td>32341.000000</td>\n      <td>32341.000000</td>\n      <td>32341.000000</td>\n      <td>32949.000000</td>\n      <td>32949.000000</td>\n      <td>32949.000000</td>\n      <td>32949.000000</td>\n    </tr>\n    <tr>\n      <th>mean</th>\n      <td>48.476949</td>\n      <td>771.495285</td>\n      <td>2.188986</td>\n      <td>2276.472488</td>\n      <td>30.815078</td>\n      <td>16.937661</td>\n      <td>23.196728</td>\n    </tr>\n    <tr>\n      <th>std</th>\n      <td>10.245741</td>\n      <td>635.115225</td>\n      <td>1.736766</td>\n      <td>4282.038731</td>\n      <td>16.914458</td>\n      <td>13.637554</td>\n      <td>12.079047</td>\n    </tr>\n    <tr>\n      <th>min</th>\n      <td>5.000000</td>\n      <td>4.000000</td>\n      <td>1.000000</td>\n      <td>0.000000</td>\n      <td>7.000000</td>\n      <td>2.000000</td>\n      <td>6.000000</td>\n    </tr>\n    <tr>\n      <th>25%</th>\n      <td>42.000000</td>\n      <td>339.000000</td>\n      <td>1.000000</td>\n      <td>300.000000</td>\n      <td>18.000000</td>\n      <td>8.000000</td>\n      <td>15.000000</td>\n    </tr>\n    <tr>\n      <th>50%</th>\n      <td>51.000000</td>\n      <td>595.000000</td>\n      <td>1.000000</td>\n      <td>700.000000</td>\n      <td>25.000000</td>\n      <td>13.000000</td>\n      <td>20.000000</td>\n    </tr>\n    <tr>\n      <th>75%</th>\n      <td>57.000000</td>\n      <td>972.000000</td>\n      <td>3.000000</td>\n      <td>1900.000000</td>\n      <td>38.000000</td>\n      <td>21.000000</td>\n      <td>30.000000</td>\n    </tr>\n    <tr>\n      <th>max</th>\n      <td>76.000000</td>\n      <td>3992.000000</td>\n      <td>20.000000</td>\n      <td>40425.000000</td>\n      <td>105.000000</td>\n      <td>105.000000</td>\n      <td>118.000000</td>\n    </tr>\n  </tbody>\n</table>\n</div>"
     },
     "metadata": {},
     "execution_count": 14
    }
   ],
   "source": [
    "df_products.describe()"
   ]
  },
  {
   "cell_type": "code",
   "execution_count": 15,
   "metadata": {},
   "outputs": [
    {
     "output_type": "stream",
     "name": "stdout",
     "text": [
      "<class 'pandas.core.frame.DataFrame'>\nRangeIndex: 32951 entries, 0 to 32950\nData columns (total 9 columns):\n #   Column                      Non-Null Count  Dtype  \n---  ------                      --------------  -----  \n 0   product_id                  32951 non-null  object \n 1   product_category_name       32341 non-null  object \n 2   product_name_lenght         32341 non-null  float64\n 3   product_description_lenght  32341 non-null  float64\n 4   product_photos_qty          32341 non-null  float64\n 5   product_weight_g            32949 non-null  float64\n 6   product_length_cm           32949 non-null  float64\n 7   product_height_cm           32949 non-null  float64\n 8   product_width_cm            32949 non-null  float64\ndtypes: float64(7), object(2)\nmemory usage: 2.3+ MB\n"
     ]
    }
   ],
   "source": [
    "df_products.info()"
   ]
  },
  {
   "cell_type": "code",
   "execution_count": 20,
   "metadata": {},
   "outputs": [
    {
     "output_type": "execute_result",
     "data": {
      "text/plain": [
       "32951"
      ]
     },
     "metadata": {},
     "execution_count": 20
    }
   ],
   "source": [
    "len(df_products['product_id'].unique())"
   ]
  },
  {
   "cell_type": "code",
   "execution_count": 29,
   "metadata": {},
   "outputs": [
    {
     "output_type": "execute_result",
     "data": {
      "text/plain": [
       "32951"
      ]
     },
     "metadata": {},
     "execution_count": 29
    }
   ],
   "source": [
    "len(df_products)"
   ]
  },
  {
   "source": [
    "The lookup table contains the products, their description and physical properties. There are no duplicated records and the data formats are ok."
   ],
   "cell_type": "markdown",
   "metadata": {}
  },
  {
   "source": [
    "# Data preparation"
   ],
   "cell_type": "markdown",
   "metadata": {}
  },
  {
   "cell_type": "code",
   "execution_count": null,
   "metadata": {},
   "outputs": [],
   "source": []
  }
 ]
}